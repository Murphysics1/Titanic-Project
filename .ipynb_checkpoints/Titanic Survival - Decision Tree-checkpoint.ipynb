{
 "cells": [
  {
   "cell_type": "markdown",
   "id": "87c9809a",
   "metadata": {},
   "source": [
    "# Import Modules"
   ]
  },
  {
   "cell_type": "code",
   "execution_count": 333,
   "id": "e7fa7162",
   "metadata": {},
   "outputs": [],
   "source": [
    "import numpy as np\n",
    "import pandas as pd\n",
    "import random\n",
    "\n",
    "import matplotlib.pyplot as plt\n",
    "import seaborn as sns\n",
    "import matplotlib.gridspec as gridspec\n",
    "sns.set()\n",
    "\n",
    "from sklearn.model_selection import train_test_split\n",
    "from sklearn import tree\n",
    "from sklearn.tree import DecisionTreeClassifier\n",
    "from sklearn.metrics import confusion_matrix, ConfusionMatrixDisplay"
   ]
  },
  {
   "cell_type": "markdown",
   "id": "030b53db",
   "metadata": {},
   "source": [
    "# Load the Data"
   ]
  },
  {
   "cell_type": "code",
   "execution_count": 334,
   "id": "a1e8aace",
   "metadata": {},
   "outputs": [],
   "source": [
    "raw_data= pd.read_csv('titanic.csv')"
   ]
  },
  {
   "cell_type": "code",
   "execution_count": 335,
   "id": "6c844e62",
   "metadata": {},
   "outputs": [
    {
     "data": {
      "text/html": [
       "<div>\n",
       "<style scoped>\n",
       "    .dataframe tbody tr th:only-of-type {\n",
       "        vertical-align: middle;\n",
       "    }\n",
       "\n",
       "    .dataframe tbody tr th {\n",
       "        vertical-align: top;\n",
       "    }\n",
       "\n",
       "    .dataframe thead th {\n",
       "        text-align: right;\n",
       "    }\n",
       "</style>\n",
       "<table border=\"1\" class=\"dataframe\">\n",
       "  <thead>\n",
       "    <tr style=\"text-align: right;\">\n",
       "      <th></th>\n",
       "      <th>PassengerId</th>\n",
       "      <th>Survived</th>\n",
       "      <th>Pclass</th>\n",
       "      <th>Name</th>\n",
       "      <th>Sex</th>\n",
       "      <th>Age</th>\n",
       "      <th>SibSp</th>\n",
       "      <th>Parch</th>\n",
       "      <th>Ticket</th>\n",
       "      <th>Fare</th>\n",
       "      <th>Cabin</th>\n",
       "      <th>Embarked</th>\n",
       "    </tr>\n",
       "  </thead>\n",
       "  <tbody>\n",
       "    <tr>\n",
       "      <th>0</th>\n",
       "      <td>1</td>\n",
       "      <td>0</td>\n",
       "      <td>3</td>\n",
       "      <td>Braund, Mr. Owen Harris</td>\n",
       "      <td>male</td>\n",
       "      <td>22.0</td>\n",
       "      <td>1</td>\n",
       "      <td>0</td>\n",
       "      <td>A/5 21171</td>\n",
       "      <td>7.2500</td>\n",
       "      <td>NaN</td>\n",
       "      <td>S</td>\n",
       "    </tr>\n",
       "    <tr>\n",
       "      <th>1</th>\n",
       "      <td>2</td>\n",
       "      <td>1</td>\n",
       "      <td>1</td>\n",
       "      <td>Cumings, Mrs. John Bradley (Florence Briggs Th...</td>\n",
       "      <td>female</td>\n",
       "      <td>38.0</td>\n",
       "      <td>1</td>\n",
       "      <td>0</td>\n",
       "      <td>PC 17599</td>\n",
       "      <td>71.2833</td>\n",
       "      <td>C85</td>\n",
       "      <td>C</td>\n",
       "    </tr>\n",
       "    <tr>\n",
       "      <th>2</th>\n",
       "      <td>3</td>\n",
       "      <td>1</td>\n",
       "      <td>3</td>\n",
       "      <td>Heikkinen, Miss. Laina</td>\n",
       "      <td>female</td>\n",
       "      <td>26.0</td>\n",
       "      <td>0</td>\n",
       "      <td>0</td>\n",
       "      <td>STON/O2. 3101282</td>\n",
       "      <td>7.9250</td>\n",
       "      <td>NaN</td>\n",
       "      <td>S</td>\n",
       "    </tr>\n",
       "    <tr>\n",
       "      <th>3</th>\n",
       "      <td>4</td>\n",
       "      <td>1</td>\n",
       "      <td>1</td>\n",
       "      <td>Futrelle, Mrs. Jacques Heath (Lily May Peel)</td>\n",
       "      <td>female</td>\n",
       "      <td>35.0</td>\n",
       "      <td>1</td>\n",
       "      <td>0</td>\n",
       "      <td>113803</td>\n",
       "      <td>53.1000</td>\n",
       "      <td>C123</td>\n",
       "      <td>S</td>\n",
       "    </tr>\n",
       "    <tr>\n",
       "      <th>4</th>\n",
       "      <td>5</td>\n",
       "      <td>0</td>\n",
       "      <td>3</td>\n",
       "      <td>Allen, Mr. William Henry</td>\n",
       "      <td>male</td>\n",
       "      <td>35.0</td>\n",
       "      <td>0</td>\n",
       "      <td>0</td>\n",
       "      <td>373450</td>\n",
       "      <td>8.0500</td>\n",
       "      <td>NaN</td>\n",
       "      <td>S</td>\n",
       "    </tr>\n",
       "  </tbody>\n",
       "</table>\n",
       "</div>"
      ],
      "text/plain": [
       "   PassengerId  Survived  Pclass  \\\n",
       "0            1         0       3   \n",
       "1            2         1       1   \n",
       "2            3         1       3   \n",
       "3            4         1       1   \n",
       "4            5         0       3   \n",
       "\n",
       "                                                Name     Sex   Age  SibSp  \\\n",
       "0                            Braund, Mr. Owen Harris    male  22.0      1   \n",
       "1  Cumings, Mrs. John Bradley (Florence Briggs Th...  female  38.0      1   \n",
       "2                             Heikkinen, Miss. Laina  female  26.0      0   \n",
       "3       Futrelle, Mrs. Jacques Heath (Lily May Peel)  female  35.0      1   \n",
       "4                           Allen, Mr. William Henry    male  35.0      0   \n",
       "\n",
       "   Parch            Ticket     Fare Cabin Embarked  \n",
       "0      0         A/5 21171   7.2500   NaN        S  \n",
       "1      0          PC 17599  71.2833   C85        C  \n",
       "2      0  STON/O2. 3101282   7.9250   NaN        S  \n",
       "3      0            113803  53.1000  C123        S  \n",
       "4      0            373450   8.0500   NaN        S  "
      ]
     },
     "execution_count": 335,
     "metadata": {},
     "output_type": "execute_result"
    }
   ],
   "source": [
    "raw_data.head()"
   ]
  },
  {
   "cell_type": "code",
   "execution_count": 336,
   "id": "6625db19",
   "metadata": {},
   "outputs": [
    {
     "name": "stdout",
     "output_type": "stream",
     "text": [
      "<class 'pandas.core.frame.DataFrame'>\n",
      "RangeIndex: 1309 entries, 0 to 1308\n",
      "Data columns (total 12 columns):\n",
      " #   Column       Non-Null Count  Dtype  \n",
      "---  ------       --------------  -----  \n",
      " 0   PassengerId  1309 non-null   int64  \n",
      " 1   Survived     1309 non-null   int64  \n",
      " 2   Pclass       1309 non-null   int64  \n",
      " 3   Name         1309 non-null   object \n",
      " 4   Sex          1309 non-null   object \n",
      " 5   Age          1046 non-null   float64\n",
      " 6   SibSp        1309 non-null   int64  \n",
      " 7   Parch        1309 non-null   int64  \n",
      " 8   Ticket       1309 non-null   object \n",
      " 9   Fare         1308 non-null   float64\n",
      " 10  Cabin        295 non-null    object \n",
      " 11  Embarked     1307 non-null   object \n",
      "dtypes: float64(2), int64(5), object(5)\n",
      "memory usage: 122.8+ KB\n"
     ]
    },
    {
     "data": {
      "text/plain": [
       "PassengerId     0.000000\n",
       "Survived        0.000000\n",
       "Pclass          0.000000\n",
       "Name            0.000000\n",
       "Sex             0.000000\n",
       "Age            20.091673\n",
       "SibSp           0.000000\n",
       "Parch           0.000000\n",
       "Ticket          0.000000\n",
       "Fare            0.076394\n",
       "Cabin          77.463713\n",
       "Embarked        0.152788\n",
       "dtype: float64"
      ]
     },
     "execution_count": 336,
     "metadata": {},
     "output_type": "execute_result"
    }
   ],
   "source": [
    "raw_data.info()\n",
    "100*raw_data.isnull().sum()/raw_data.shape[0]"
   ]
  },
  {
   "cell_type": "markdown",
   "id": "b316320e",
   "metadata": {},
   "source": [
    "We are missing 77.5% of our cabin data, therefore it is probably best to drop that column. We will, however, check to see if there is anything useful. We will need to impute the missing Ages and Fare columns. We will also need to convert to integer (possibly one hot encode) or drop on the columns which are an object type (Name, Sex, and Ticket, Cabin, Embarked)"
   ]
  },
  {
   "cell_type": "markdown",
   "id": "db5a7e1b",
   "metadata": {},
   "source": [
    "We can drop the Name column, but it would be nice to keep the title as it might help us estimate the missing ages"
   ]
  },
  {
   "cell_type": "markdown",
   "id": "28c946a0",
   "metadata": {},
   "source": [
    "We will want our target as the last column, and it would be nice to have a list of all the inputs"
   ]
  },
  {
   "cell_type": "code",
   "execution_count": 337,
   "id": "6a622aad",
   "metadata": {},
   "outputs": [],
   "source": [
    "col_order = ['Pclass', 'Name','Sex','Age','SibSp','Parch','Fare','Cabin','Embarked','Survived']\n",
    "raw_data = raw_data[col_order]"
   ]
  },
  {
   "cell_type": "markdown",
   "id": "a3c97e2d",
   "metadata": {},
   "source": [
    "# Split the Data"
   ]
  },
  {
   "cell_type": "markdown",
   "id": "24712c9d",
   "metadata": {},
   "source": [
    "Split the data before processing to prevent data leakage"
   ]
  },
  {
   "cell_type": "code",
   "execution_count": 338,
   "id": "f62904c3",
   "metadata": {},
   "outputs": [],
   "source": [
    "inputs = raw_data.iloc[:,:-1]"
   ]
  },
  {
   "cell_type": "code",
   "execution_count": 339,
   "id": "59518370",
   "metadata": {},
   "outputs": [],
   "source": [
    "target = raw_data['Survived']"
   ]
  },
  {
   "cell_type": "code",
   "execution_count": 340,
   "id": "b4412e29",
   "metadata": {},
   "outputs": [],
   "source": [
    "x_train, x_test, y_train, y_test = train_test_split(inputs,target,test_size=0.2, random_state= 42)"
   ]
  },
  {
   "cell_type": "markdown",
   "id": "3a5ffcfe",
   "metadata": {},
   "source": [
    "# Explore the Data"
   ]
  },
  {
   "cell_type": "code",
   "execution_count": 341,
   "id": "65857b1c",
   "metadata": {},
   "outputs": [
    {
     "data": {
      "text/html": [
       "<div>\n",
       "<style scoped>\n",
       "    .dataframe tbody tr th:only-of-type {\n",
       "        vertical-align: middle;\n",
       "    }\n",
       "\n",
       "    .dataframe tbody tr th {\n",
       "        vertical-align: top;\n",
       "    }\n",
       "\n",
       "    .dataframe thead th {\n",
       "        text-align: right;\n",
       "    }\n",
       "</style>\n",
       "<table border=\"1\" class=\"dataframe\">\n",
       "  <thead>\n",
       "    <tr style=\"text-align: right;\">\n",
       "      <th></th>\n",
       "      <th>Pclass</th>\n",
       "      <th>Name</th>\n",
       "      <th>Sex</th>\n",
       "      <th>Age</th>\n",
       "      <th>SibSp</th>\n",
       "      <th>Parch</th>\n",
       "      <th>Fare</th>\n",
       "      <th>Cabin</th>\n",
       "      <th>Embarked</th>\n",
       "      <th>Survived</th>\n",
       "    </tr>\n",
       "  </thead>\n",
       "  <tbody>\n",
       "    <tr>\n",
       "      <th>0</th>\n",
       "      <td>2</td>\n",
       "      <td>Mack, Mrs. (Mary)</td>\n",
       "      <td>female</td>\n",
       "      <td>57.0</td>\n",
       "      <td>0</td>\n",
       "      <td>0</td>\n",
       "      <td>10.5000</td>\n",
       "      <td>E77</td>\n",
       "      <td>S</td>\n",
       "      <td>0</td>\n",
       "    </tr>\n",
       "    <tr>\n",
       "      <th>1</th>\n",
       "      <td>2</td>\n",
       "      <td>Beane, Mr. Edward</td>\n",
       "      <td>male</td>\n",
       "      <td>32.0</td>\n",
       "      <td>1</td>\n",
       "      <td>0</td>\n",
       "      <td>26.0000</td>\n",
       "      <td>NaN</td>\n",
       "      <td>S</td>\n",
       "      <td>1</td>\n",
       "    </tr>\n",
       "    <tr>\n",
       "      <th>2</th>\n",
       "      <td>3</td>\n",
       "      <td>Connolly, Miss. Kate</td>\n",
       "      <td>female</td>\n",
       "      <td>22.0</td>\n",
       "      <td>0</td>\n",
       "      <td>0</td>\n",
       "      <td>7.7500</td>\n",
       "      <td>NaN</td>\n",
       "      <td>Q</td>\n",
       "      <td>1</td>\n",
       "    </tr>\n",
       "    <tr>\n",
       "      <th>3</th>\n",
       "      <td>3</td>\n",
       "      <td>Sandstrom, Miss. Marguerite Rut</td>\n",
       "      <td>female</td>\n",
       "      <td>4.0</td>\n",
       "      <td>1</td>\n",
       "      <td>1</td>\n",
       "      <td>16.7000</td>\n",
       "      <td>G6</td>\n",
       "      <td>S</td>\n",
       "      <td>1</td>\n",
       "    </tr>\n",
       "    <tr>\n",
       "      <th>4</th>\n",
       "      <td>3</td>\n",
       "      <td>Ford, Miss. Robina Maggie \"Ruby\"</td>\n",
       "      <td>female</td>\n",
       "      <td>9.0</td>\n",
       "      <td>2</td>\n",
       "      <td>2</td>\n",
       "      <td>34.3750</td>\n",
       "      <td>NaN</td>\n",
       "      <td>S</td>\n",
       "      <td>0</td>\n",
       "    </tr>\n",
       "    <tr>\n",
       "      <th>...</th>\n",
       "      <td>...</td>\n",
       "      <td>...</td>\n",
       "      <td>...</td>\n",
       "      <td>...</td>\n",
       "      <td>...</td>\n",
       "      <td>...</td>\n",
       "      <td>...</td>\n",
       "      <td>...</td>\n",
       "      <td>...</td>\n",
       "      <td>...</td>\n",
       "    </tr>\n",
       "    <tr>\n",
       "      <th>1042</th>\n",
       "      <td>2</td>\n",
       "      <td>Andrew, Mr. Frank Thomas</td>\n",
       "      <td>male</td>\n",
       "      <td>25.0</td>\n",
       "      <td>0</td>\n",
       "      <td>0</td>\n",
       "      <td>10.5000</td>\n",
       "      <td>NaN</td>\n",
       "      <td>S</td>\n",
       "      <td>0</td>\n",
       "    </tr>\n",
       "    <tr>\n",
       "      <th>1043</th>\n",
       "      <td>1</td>\n",
       "      <td>Douglas, Mrs. Walter Donald (Mahala Dutton)</td>\n",
       "      <td>female</td>\n",
       "      <td>48.0</td>\n",
       "      <td>1</td>\n",
       "      <td>0</td>\n",
       "      <td>106.4250</td>\n",
       "      <td>C86</td>\n",
       "      <td>C</td>\n",
       "      <td>1</td>\n",
       "    </tr>\n",
       "    <tr>\n",
       "      <th>1044</th>\n",
       "      <td>1</td>\n",
       "      <td>Carrau, Mr. Jose Pedro</td>\n",
       "      <td>male</td>\n",
       "      <td>17.0</td>\n",
       "      <td>0</td>\n",
       "      <td>0</td>\n",
       "      <td>47.1000</td>\n",
       "      <td>NaN</td>\n",
       "      <td>S</td>\n",
       "      <td>0</td>\n",
       "    </tr>\n",
       "    <tr>\n",
       "      <th>1045</th>\n",
       "      <td>3</td>\n",
       "      <td>Hansen, Mr. Claus Peter</td>\n",
       "      <td>male</td>\n",
       "      <td>41.0</td>\n",
       "      <td>2</td>\n",
       "      <td>0</td>\n",
       "      <td>14.1083</td>\n",
       "      <td>NaN</td>\n",
       "      <td>S</td>\n",
       "      <td>0</td>\n",
       "    </tr>\n",
       "    <tr>\n",
       "      <th>1046</th>\n",
       "      <td>3</td>\n",
       "      <td>Vendel, Mr. Olof Edvin</td>\n",
       "      <td>male</td>\n",
       "      <td>20.0</td>\n",
       "      <td>0</td>\n",
       "      <td>0</td>\n",
       "      <td>7.8542</td>\n",
       "      <td>NaN</td>\n",
       "      <td>S</td>\n",
       "      <td>0</td>\n",
       "    </tr>\n",
       "  </tbody>\n",
       "</table>\n",
       "<p>1047 rows × 10 columns</p>\n",
       "</div>"
      ],
      "text/plain": [
       "      Pclass                                         Name     Sex   Age  \\\n",
       "0          2                            Mack, Mrs. (Mary)  female  57.0   \n",
       "1          2                            Beane, Mr. Edward    male  32.0   \n",
       "2          3                         Connolly, Miss. Kate  female  22.0   \n",
       "3          3              Sandstrom, Miss. Marguerite Rut  female   4.0   \n",
       "4          3             Ford, Miss. Robina Maggie \"Ruby\"  female   9.0   \n",
       "...      ...                                          ...     ...   ...   \n",
       "1042       2                     Andrew, Mr. Frank Thomas    male  25.0   \n",
       "1043       1  Douglas, Mrs. Walter Donald (Mahala Dutton)  female  48.0   \n",
       "1044       1                       Carrau, Mr. Jose Pedro    male  17.0   \n",
       "1045       3                      Hansen, Mr. Claus Peter    male  41.0   \n",
       "1046       3                       Vendel, Mr. Olof Edvin    male  20.0   \n",
       "\n",
       "      SibSp  Parch      Fare Cabin Embarked  Survived  \n",
       "0         0      0   10.5000   E77        S         0  \n",
       "1         1      0   26.0000   NaN        S         1  \n",
       "2         0      0    7.7500   NaN        Q         1  \n",
       "3         1      1   16.7000    G6        S         1  \n",
       "4         2      2   34.3750   NaN        S         0  \n",
       "...     ...    ...       ...   ...      ...       ...  \n",
       "1042      0      0   10.5000   NaN        S         0  \n",
       "1043      1      0  106.4250   C86        C         1  \n",
       "1044      0      0   47.1000   NaN        S         0  \n",
       "1045      2      0   14.1083   NaN        S         0  \n",
       "1046      0      0    7.8542   NaN        S         0  \n",
       "\n",
       "[1047 rows x 10 columns]"
      ]
     },
     "execution_count": 341,
     "metadata": {},
     "output_type": "execute_result"
    }
   ],
   "source": [
    "data = pd.concat([x_train,y_train],axis=1)\n",
    "data = data.reset_index(drop=True)\n",
    "data"
   ]
  },
  {
   "cell_type": "markdown",
   "id": "2b65c82d",
   "metadata": {},
   "source": [
    "### Effect of Class, Sex, and Port of Origin"
   ]
  },
  {
   "cell_type": "code",
   "execution_count": 342,
   "id": "86efc553",
   "metadata": {
    "scrolled": false
   },
   "outputs": [
    {
     "data": {
      "text/plain": [
       "<seaborn.axisgrid.FacetGrid at 0x11a0c43b280>"
      ]
     },
     "execution_count": 342,
     "metadata": {},
     "output_type": "execute_result"
    },
    {
     "data": {
      "image/png": "[encoded data removed]",
      "text/plain": [
       "<Figure size 432.85x360 with 1 Axes>"
      ]
     },
     "metadata": {},
     "output_type": "display_data"
    }
   ],
   "source": [
    "sns.catplot(x='Pclass', y=\"Survived\", hue=\"Sex\",data=data,kind=\"point\")"
   ]
  },
  {
   "cell_type": "code",
   "execution_count": 343,
   "id": "1e06ec11",
   "metadata": {
    "scrolled": false
   },
   "outputs": [
    {
     "data": {
      "text/plain": [
       "<seaborn.axisgrid.FacetGrid at 0x11a0c9c4790>"
      ]
     },
     "execution_count": 343,
     "metadata": {},
     "output_type": "execute_result"
    },
    {
     "data": {
      "image/png": "[encoded data removed]",
      "text/plain": [
       "<Figure size 1152.85x360 with 3 Axes>"
      ]
     },
     "metadata": {},
     "output_type": "display_data"
    }
   ],
   "source": [
    "sns.catplot(x='Pclass', y=\"Survived\", col=\"Embarked\", hue='Sex',data=data,kind=\"point\")"
   ]
  },
  {
   "cell_type": "markdown",
   "id": "20640ad7",
   "metadata": {},
   "source": [
    "There is a noticable effect on survival based on class and sex. Embarked may have a small effect based on class with worse odds for first class men at Queenstown and better odds for 3rd class men at Queenstown"
   ]
  },
  {
   "cell_type": "markdown",
   "id": "b91feed2",
   "metadata": {},
   "source": [
    "### Cabin"
   ]
  },
  {
   "cell_type": "code",
   "execution_count": 344,
   "id": "23d4fe60",
   "metadata": {},
   "outputs": [
    {
     "data": {
      "text/plain": [
       "187"
      ]
     },
     "execution_count": 344,
     "metadata": {},
     "output_type": "execute_result"
    }
   ],
   "source": [
    "len(raw_data['Cabin'].unique())"
   ]
  },
  {
   "cell_type": "code",
   "execution_count": 345,
   "id": "9e5f7a9c",
   "metadata": {},
   "outputs": [
    {
     "data": {
      "text/html": [
       "<div>\n",
       "<style scoped>\n",
       "    .dataframe tbody tr th:only-of-type {\n",
       "        vertical-align: middle;\n",
       "    }\n",
       "\n",
       "    .dataframe tbody tr th {\n",
       "        vertical-align: top;\n",
       "    }\n",
       "\n",
       "    .dataframe thead th {\n",
       "        text-align: right;\n",
       "    }\n",
       "</style>\n",
       "<table border=\"1\" class=\"dataframe\">\n",
       "  <thead>\n",
       "    <tr style=\"text-align: right;\">\n",
       "      <th></th>\n",
       "      <th>Pclass</th>\n",
       "      <th>Name</th>\n",
       "      <th>Sex</th>\n",
       "      <th>Age</th>\n",
       "      <th>SibSp</th>\n",
       "      <th>Parch</th>\n",
       "      <th>Fare</th>\n",
       "      <th>Cabin</th>\n",
       "      <th>Embarked</th>\n",
       "      <th>Survived</th>\n",
       "      <th>Deck</th>\n",
       "    </tr>\n",
       "  </thead>\n",
       "  <tbody>\n",
       "    <tr>\n",
       "      <th>0</th>\n",
       "      <td>3</td>\n",
       "      <td>Braund, Mr. Owen Harris</td>\n",
       "      <td>male</td>\n",
       "      <td>22.0</td>\n",
       "      <td>1</td>\n",
       "      <td>0</td>\n",
       "      <td>7.2500</td>\n",
       "      <td>U100</td>\n",
       "      <td>S</td>\n",
       "      <td>0</td>\n",
       "      <td>U</td>\n",
       "    </tr>\n",
       "    <tr>\n",
       "      <th>1</th>\n",
       "      <td>1</td>\n",
       "      <td>Cumings, Mrs. John Bradley (Florence Briggs Th...</td>\n",
       "      <td>female</td>\n",
       "      <td>38.0</td>\n",
       "      <td>1</td>\n",
       "      <td>0</td>\n",
       "      <td>71.2833</td>\n",
       "      <td>C85</td>\n",
       "      <td>C</td>\n",
       "      <td>1</td>\n",
       "      <td>C</td>\n",
       "    </tr>\n",
       "    <tr>\n",
       "      <th>2</th>\n",
       "      <td>3</td>\n",
       "      <td>Heikkinen, Miss. Laina</td>\n",
       "      <td>female</td>\n",
       "      <td>26.0</td>\n",
       "      <td>0</td>\n",
       "      <td>0</td>\n",
       "      <td>7.9250</td>\n",
       "      <td>U100</td>\n",
       "      <td>S</td>\n",
       "      <td>1</td>\n",
       "      <td>U</td>\n",
       "    </tr>\n",
       "    <tr>\n",
       "      <th>3</th>\n",
       "      <td>1</td>\n",
       "      <td>Futrelle, Mrs. Jacques Heath (Lily May Peel)</td>\n",
       "      <td>female</td>\n",
       "      <td>35.0</td>\n",
       "      <td>1</td>\n",
       "      <td>0</td>\n",
       "      <td>53.1000</td>\n",
       "      <td>C123</td>\n",
       "      <td>S</td>\n",
       "      <td>1</td>\n",
       "      <td>C</td>\n",
       "    </tr>\n",
       "    <tr>\n",
       "      <th>4</th>\n",
       "      <td>3</td>\n",
       "      <td>Allen, Mr. William Henry</td>\n",
       "      <td>male</td>\n",
       "      <td>35.0</td>\n",
       "      <td>0</td>\n",
       "      <td>0</td>\n",
       "      <td>8.0500</td>\n",
       "      <td>U100</td>\n",
       "      <td>S</td>\n",
       "      <td>0</td>\n",
       "      <td>U</td>\n",
       "    </tr>\n",
       "  </tbody>\n",
       "</table>\n",
       "</div>"
      ],
      "text/plain": [
       "   Pclass                                               Name     Sex   Age  \\\n",
       "0       3                            Braund, Mr. Owen Harris    male  22.0   \n",
       "1       1  Cumings, Mrs. John Bradley (Florence Briggs Th...  female  38.0   \n",
       "2       3                             Heikkinen, Miss. Laina  female  26.0   \n",
       "3       1       Futrelle, Mrs. Jacques Heath (Lily May Peel)  female  35.0   \n",
       "4       3                           Allen, Mr. William Henry    male  35.0   \n",
       "\n",
       "   SibSp  Parch     Fare Cabin Embarked  Survived Deck  \n",
       "0      1      0   7.2500  U100        S         0    U  \n",
       "1      1      0  71.2833   C85        C         1    C  \n",
       "2      0      0   7.9250  U100        S         1    U  \n",
       "3      1      0  53.1000  C123        S         1    C  \n",
       "4      0      0   8.0500  U100        S         0    U  "
      ]
     },
     "execution_count": 345,
     "metadata": {},
     "output_type": "execute_result"
    }
   ],
   "source": [
    "cabin_test= raw_data.copy()\n",
    "cabin_test['Cabin'] = cabin_test['Cabin'].fillna('U100')\n",
    "cabin_test['Deck'] = [cabin[0] for cabin in cabin_test['Cabin']]\n",
    "cabin_test.head()"
   ]
  },
  {
   "cell_type": "code",
   "execution_count": 346,
   "id": "2f952497",
   "metadata": {},
   "outputs": [
    {
     "data": {
      "text/plain": [
       "<seaborn.axisgrid.FacetGrid at 0x11a092e2640>"
      ]
     },
     "execution_count": 346,
     "metadata": {},
     "output_type": "execute_result"
    },
    {
     "data": {
      "image/png": "[encoded data removed]",
      "text/plain": [
       "<Figure size 360x360 with 1 Axes>"
      ]
     },
     "metadata": {},
     "output_type": "display_data"
    }
   ],
   "source": [
    "sns.catplot(x='Deck', y=\"Survived\",data=cabin_test,kind=\"point\")"
   ]
  },
  {
   "cell_type": "markdown",
   "id": "b7f53275",
   "metadata": {},
   "source": [
    "The confidence intervals are pretty wide. This is probably due to the large amount of missing data. We'll go ahead and drop the feature"
   ]
  },
  {
   "cell_type": "code",
   "execution_count": 347,
   "id": "9f44a6d3",
   "metadata": {},
   "outputs": [
    {
     "data": {
      "text/plain": [
       "<seaborn.axisgrid.FacetGrid at 0x11a097eb070>"
      ]
     },
     "execution_count": 347,
     "metadata": {},
     "output_type": "execute_result"
    },
    {
     "data": {
      "image/png": "[encoded data removed]",
      "text/plain": [
       "<Figure size 360x360 with 1 Axes>"
      ]
     },
     "metadata": {},
     "output_type": "display_data"
    }
   ],
   "source": [
    "sns.catplot(x='Deck',data=cabin_test[cabin_test['Deck'] != 'U'],kind=\"count\")"
   ]
  },
  {
   "cell_type": "markdown",
   "id": "4034b43b",
   "metadata": {},
   "source": [
    "### Age"
   ]
  },
  {
   "cell_type": "code",
   "execution_count": 348,
   "id": "10ab70c8",
   "metadata": {},
   "outputs": [
    {
     "data": {
      "text/plain": [
       "Text(0.5, 1.0, 'Male')"
      ]
     },
     "execution_count": 348,
     "metadata": {},
     "output_type": "execute_result"
    },
    {
     "data": {
      "image/png": "[encoded data removed]",
      "text/plain": [
       "<Figure size 1080x288 with 2 Axes>"
      ]
     },
     "metadata": {},
     "output_type": "display_data"
    }
   ],
   "source": [
    "men = data[data['Sex']=='male']\n",
    "women = data[data['Sex']=='female']\n",
    "survive =['c',\"Survived\"]\n",
    "nsurvive =['y',\"Not Survived\"]\n",
    "bins =10\n",
    "\n",
    "fig, axes = plt.subplots(1, 2,figsize = (15,4))\n",
    "ax = sns.histplot(women[women['Survived']==1].Age.dropna(), ax = axes[0],bins=bins, kde =True, \n",
    "                  color = survive[0], label = survive[1])\n",
    "ax = sns.histplot(women[women['Survived']==0].Age.dropna(), ax = axes[0], bins=bins,kde =True,\n",
    "                  color = nsurvive[0], label = nsurvive[1])\n",
    "ax.legend()\n",
    "ax.set_title('Female')\n",
    "ax = sns.histplot(men[men['Survived']==1].Age.dropna(),ax = axes[1], bins=bins,kde =True,\n",
    "                  color = survive[0], label = survive[1])\n",
    "ax = sns.histplot(men[men['Survived']==0].Age.dropna(),ax = axes[1], bins=bins,kde =True,\n",
    "                  color = nsurvive[0], label = nsurvive[1])\n",
    "ax.legend()\n",
    "ax.set_title('Male')"
   ]
  },
  {
   "cell_type": "markdown",
   "id": "0292441a",
   "metadata": {},
   "source": [
    "Interestingly is that the ages you are most likely to survive are also the areas you are most likely to not survive. The peaks though are offset; men peak 20-30 and women 20-40"
   ]
  },
  {
   "cell_type": "markdown",
   "id": "34780d59",
   "metadata": {},
   "source": [
    "### Family"
   ]
  },
  {
   "cell_type": "markdown",
   "id": "3f9338ed",
   "metadata": {},
   "source": [
    "The grouping for the family categories SibSp and Parch seem odd. "
   ]
  },
  {
   "cell_type": "code",
   "execution_count": 349,
   "id": "03a64ba7",
   "metadata": {},
   "outputs": [
    {
     "data": {
      "text/html": [
       "<div>\n",
       "<style scoped>\n",
       "    .dataframe tbody tr th:only-of-type {\n",
       "        vertical-align: middle;\n",
       "    }\n",
       "\n",
       "    .dataframe tbody tr th {\n",
       "        vertical-align: top;\n",
       "    }\n",
       "\n",
       "    .dataframe thead th {\n",
       "        text-align: right;\n",
       "    }\n",
       "</style>\n",
       "<table border=\"1\" class=\"dataframe\">\n",
       "  <thead>\n",
       "    <tr style=\"text-align: right;\">\n",
       "      <th></th>\n",
       "      <th>Pclass</th>\n",
       "      <th>Name</th>\n",
       "      <th>Sex</th>\n",
       "      <th>Age</th>\n",
       "      <th>Fare</th>\n",
       "      <th>Cabin</th>\n",
       "      <th>Embarked</th>\n",
       "      <th>Survived</th>\n",
       "      <th>Family</th>\n",
       "    </tr>\n",
       "  </thead>\n",
       "  <tbody>\n",
       "    <tr>\n",
       "      <th>0</th>\n",
       "      <td>2</td>\n",
       "      <td>Mack, Mrs. (Mary)</td>\n",
       "      <td>female</td>\n",
       "      <td>57.0</td>\n",
       "      <td>10.5000</td>\n",
       "      <td>E77</td>\n",
       "      <td>S</td>\n",
       "      <td>0</td>\n",
       "      <td>0</td>\n",
       "    </tr>\n",
       "    <tr>\n",
       "      <th>1</th>\n",
       "      <td>2</td>\n",
       "      <td>Beane, Mr. Edward</td>\n",
       "      <td>male</td>\n",
       "      <td>32.0</td>\n",
       "      <td>26.0000</td>\n",
       "      <td>NaN</td>\n",
       "      <td>S</td>\n",
       "      <td>1</td>\n",
       "      <td>1</td>\n",
       "    </tr>\n",
       "    <tr>\n",
       "      <th>2</th>\n",
       "      <td>3</td>\n",
       "      <td>Connolly, Miss. Kate</td>\n",
       "      <td>female</td>\n",
       "      <td>22.0</td>\n",
       "      <td>7.7500</td>\n",
       "      <td>NaN</td>\n",
       "      <td>Q</td>\n",
       "      <td>1</td>\n",
       "      <td>0</td>\n",
       "    </tr>\n",
       "    <tr>\n",
       "      <th>3</th>\n",
       "      <td>3</td>\n",
       "      <td>Sandstrom, Miss. Marguerite Rut</td>\n",
       "      <td>female</td>\n",
       "      <td>4.0</td>\n",
       "      <td>16.7000</td>\n",
       "      <td>G6</td>\n",
       "      <td>S</td>\n",
       "      <td>1</td>\n",
       "      <td>2</td>\n",
       "    </tr>\n",
       "    <tr>\n",
       "      <th>4</th>\n",
       "      <td>3</td>\n",
       "      <td>Ford, Miss. Robina Maggie \"Ruby\"</td>\n",
       "      <td>female</td>\n",
       "      <td>9.0</td>\n",
       "      <td>34.3750</td>\n",
       "      <td>NaN</td>\n",
       "      <td>S</td>\n",
       "      <td>0</td>\n",
       "      <td>4</td>\n",
       "    </tr>\n",
       "    <tr>\n",
       "      <th>...</th>\n",
       "      <td>...</td>\n",
       "      <td>...</td>\n",
       "      <td>...</td>\n",
       "      <td>...</td>\n",
       "      <td>...</td>\n",
       "      <td>...</td>\n",
       "      <td>...</td>\n",
       "      <td>...</td>\n",
       "      <td>...</td>\n",
       "    </tr>\n",
       "    <tr>\n",
       "      <th>1042</th>\n",
       "      <td>2</td>\n",
       "      <td>Andrew, Mr. Frank Thomas</td>\n",
       "      <td>male</td>\n",
       "      <td>25.0</td>\n",
       "      <td>10.5000</td>\n",
       "      <td>NaN</td>\n",
       "      <td>S</td>\n",
       "      <td>0</td>\n",
       "      <td>0</td>\n",
       "    </tr>\n",
       "    <tr>\n",
       "      <th>1043</th>\n",
       "      <td>1</td>\n",
       "      <td>Douglas, Mrs. Walter Donald (Mahala Dutton)</td>\n",
       "      <td>female</td>\n",
       "      <td>48.0</td>\n",
       "      <td>106.4250</td>\n",
       "      <td>C86</td>\n",
       "      <td>C</td>\n",
       "      <td>1</td>\n",
       "      <td>1</td>\n",
       "    </tr>\n",
       "    <tr>\n",
       "      <th>1044</th>\n",
       "      <td>1</td>\n",
       "      <td>Carrau, Mr. Jose Pedro</td>\n",
       "      <td>male</td>\n",
       "      <td>17.0</td>\n",
       "      <td>47.1000</td>\n",
       "      <td>NaN</td>\n",
       "      <td>S</td>\n",
       "      <td>0</td>\n",
       "      <td>0</td>\n",
       "    </tr>\n",
       "    <tr>\n",
       "      <th>1045</th>\n",
       "      <td>3</td>\n",
       "      <td>Hansen, Mr. Claus Peter</td>\n",
       "      <td>male</td>\n",
       "      <td>41.0</td>\n",
       "      <td>14.1083</td>\n",
       "      <td>NaN</td>\n",
       "      <td>S</td>\n",
       "      <td>0</td>\n",
       "      <td>2</td>\n",
       "    </tr>\n",
       "    <tr>\n",
       "      <th>1046</th>\n",
       "      <td>3</td>\n",
       "      <td>Vendel, Mr. Olof Edvin</td>\n",
       "      <td>male</td>\n",
       "      <td>20.0</td>\n",
       "      <td>7.8542</td>\n",
       "      <td>NaN</td>\n",
       "      <td>S</td>\n",
       "      <td>0</td>\n",
       "      <td>0</td>\n",
       "    </tr>\n",
       "  </tbody>\n",
       "</table>\n",
       "<p>1047 rows × 9 columns</p>\n",
       "</div>"
      ],
      "text/plain": [
       "      Pclass                                         Name     Sex   Age  \\\n",
       "0          2                            Mack, Mrs. (Mary)  female  57.0   \n",
       "1          2                            Beane, Mr. Edward    male  32.0   \n",
       "2          3                         Connolly, Miss. Kate  female  22.0   \n",
       "3          3              Sandstrom, Miss. Marguerite Rut  female   4.0   \n",
       "4          3             Ford, Miss. Robina Maggie \"Ruby\"  female   9.0   \n",
       "...      ...                                          ...     ...   ...   \n",
       "1042       2                     Andrew, Mr. Frank Thomas    male  25.0   \n",
       "1043       1  Douglas, Mrs. Walter Donald (Mahala Dutton)  female  48.0   \n",
       "1044       1                       Carrau, Mr. Jose Pedro    male  17.0   \n",
       "1045       3                      Hansen, Mr. Claus Peter    male  41.0   \n",
       "1046       3                       Vendel, Mr. Olof Edvin    male  20.0   \n",
       "\n",
       "          Fare Cabin Embarked  Survived  Family  \n",
       "0      10.5000   E77        S         0       0  \n",
       "1      26.0000   NaN        S         1       1  \n",
       "2       7.7500   NaN        Q         1       0  \n",
       "3      16.7000    G6        S         1       2  \n",
       "4      34.3750   NaN        S         0       4  \n",
       "...        ...   ...      ...       ...     ...  \n",
       "1042   10.5000   NaN        S         0       0  \n",
       "1043  106.4250   C86        C         1       1  \n",
       "1044   47.1000   NaN        S         0       0  \n",
       "1045   14.1083   NaN        S         0       2  \n",
       "1046    7.8542   NaN        S         0       0  \n",
       "\n",
       "[1047 rows x 9 columns]"
      ]
     },
     "execution_count": 349,
     "metadata": {},
     "output_type": "execute_result"
    }
   ],
   "source": [
    "data['Family'] = data['SibSp']+data['Parch']\n",
    "data = data.drop(columns = ['SibSp','Parch'])\n",
    "data"
   ]
  },
  {
   "cell_type": "code",
   "execution_count": 350,
   "id": "ca9eaa51",
   "metadata": {},
   "outputs": [
    {
     "data": {
      "text/plain": [
       "<seaborn.axisgrid.FacetGrid at 0x11a08aa3340>"
      ]
     },
     "execution_count": 350,
     "metadata": {},
     "output_type": "execute_result"
    },
    {
     "data": {
      "image/png": "[encoded data removed]",
      "text/plain": [
       "<Figure size 900x360 with 1 Axes>"
      ]
     },
     "metadata": {},
     "output_type": "display_data"
    }
   ],
   "source": [
    "sns.catplot(x='Family', y=\"Survived\",data=data,kind=\"point\",aspect = 2.5)"
   ]
  },
  {
   "cell_type": "markdown",
   "id": "4f94978b",
   "metadata": {},
   "source": [
    "There is a definitive boost in survivability for passengers with a family size between 1 and 3. After that it returns to baseline"
   ]
  },
  {
   "cell_type": "markdown",
   "id": "3b8a9bdb",
   "metadata": {},
   "source": [
    "### Fare"
   ]
  },
  {
   "cell_type": "code",
   "execution_count": 351,
   "id": "63bdbe03",
   "metadata": {},
   "outputs": [],
   "source": [
    "first = data[data['Pclass']==1]\n",
    "second = data[data['Pclass']==2]\n",
    "third = data[data['Pclass']==3]"
   ]
  },
  {
   "cell_type": "code",
   "execution_count": 352,
   "id": "dc1b2590",
   "metadata": {},
   "outputs": [
    {
     "data": {
      "text/plain": [
       "Text(0.5, 1.0, '3rd Class')"
      ]
     },
     "execution_count": 352,
     "metadata": {},
     "output_type": "execute_result"
    },
    {
     "data": {
      "image/png": "[encoded data removed]",
      "text/plain": [
       "<Figure size 864x576 with 4 Axes>"
      ]
     },
     "metadata": {},
     "output_type": "display_data"
    }
   ],
   "source": [
    "fig = plt.figure(figsize =(12,8), constrained_layout = True)\n",
    "gs = fig.add_gridspec(nrows = 2, ncols = 3)\n",
    "\n",
    "ax1 = fig.add_subplot(gs[0,:])\n",
    "ax1 = sns.histplot(data[data['Survived']==1],x='Fare',kde=True, color = survive[0], label = survive[1])\n",
    "ax1 = sns.histplot(data[data['Survived']==0],x='Fare',kde=True, color = nsurvive[0], label = nsurvive[1])\n",
    "ax1.legend()\n",
    "ax1.set_title(\"Overall Distribution\")\n",
    "\n",
    "ax2 = fig.add_subplot(gs[1,0])\n",
    "ax2 = sns.histplot(first[first['Survived']==1].Fare.dropna(), bins=bins, kde =True, \n",
    "                  color = survive[0], label = survive[1])\n",
    "ax2 = sns.histplot(first[first['Survived']==0].Fare.dropna(), bins=bins, kde =True, \n",
    "                  color = nsurvive[0], label = nsurvive[1])\n",
    "ax2.set_title(\"1st Class\")\n",
    "\n",
    "ax3 = fig.add_subplot(gs[1,1])\n",
    "ax3 = sns.histplot(second[second['Survived']==1].Fare.dropna(),bins=bins, kde =True, \n",
    "                  color = survive[0], label = survive[1])\n",
    "ax3 = sns.histplot(second[second['Survived']==0].Fare.dropna(),bins=bins, kde =True, \n",
    "                  color = nsurvive[0], label = nsurvive[1])\n",
    "ax3.set_title(\"2nd Class\")\n",
    "\n",
    "ax4 = fig.add_subplot(gs[1,2])\n",
    "ax4 = sns.histplot(third[third['Survived']==1].Fare.dropna(),bins=bins, kde =True, \n",
    "                  color = survive[0], label = survive[1])\n",
    "ax4 = sns.histplot(third[third['Survived']==0].Fare.dropna(),bins=bins, kde =True, \n",
    "                  color = nsurvive[0], label = nsurvive[1])\n",
    "ax4.set_title(\"3rd Class\")\n"
   ]
  },
  {
   "cell_type": "markdown",
   "id": "ae92cae8",
   "metadata": {},
   "source": [
    "The fare category doesn't seem to have much influence on first class but definitely provides a boost for 2nd and 3rd class. The passengers that spent more on their ticket had a better chance at survival. This will require an uneven sample range when we make our ranges or we lose the significance or have a large number of fare ranges"
   ]
  },
  {
   "cell_type": "markdown",
   "id": "e4bf02c0",
   "metadata": {},
   "source": [
    "# Process the Data"
   ]
  },
  {
   "cell_type": "code",
   "execution_count": 353,
   "id": "4433972b",
   "metadata": {},
   "outputs": [],
   "source": [
    "df_train = x_train.copy()\n",
    "df_test = x_test.copy()\n",
    "\n",
    "df_train = df_train.reset_index(drop=True)\n",
    "df_test = df_test.reset_index(drop=True)"
   ]
  },
  {
   "cell_type": "markdown",
   "id": "8914fad1",
   "metadata": {},
   "source": [
    "After I have built a model, I'll switch to df being the test data to process it in the same way"
   ]
  },
  {
   "cell_type": "code",
   "execution_count": 354,
   "id": "4d357ac7",
   "metadata": {},
   "outputs": [],
   "source": [
    "df = df_train.copy()"
   ]
  },
  {
   "cell_type": "code",
   "execution_count": 355,
   "id": "db608b20",
   "metadata": {},
   "outputs": [],
   "source": [
    "dropped_col = ['Ticket']"
   ]
  },
  {
   "cell_type": "markdown",
   "id": "8bc2579b",
   "metadata": {},
   "source": [
    "## Missing Data"
   ]
  },
  {
   "cell_type": "markdown",
   "id": "f961d0dd",
   "metadata": {},
   "source": [
    "### Name"
   ]
  },
  {
   "cell_type": "markdown",
   "id": "0b744730",
   "metadata": {},
   "source": [
    "There is no missing data here, but I want the passenger's title to help impute the age column"
   ]
  },
  {
   "cell_type": "code",
   "execution_count": 356,
   "id": "e4513b46",
   "metadata": {},
   "outputs": [],
   "source": [
    "# For the Name Column\n",
    "#Strip all white space \n",
    "df['Name'] = df['Name'].str.replace(\" \",\"\",regex=True)\n",
    "#Replace all periods with commas\n",
    "df['Name'] = df['Name'].str.replace(\".\",\",\",regex=True)\n",
    "#Split the Name column\n",
    "df[['Last Name','Title',\"First Name\",\"Remainder\"]] = df['Name'].str.split(',',expand=True)\n",
    "\n",
    "df['Family'] = df['SibSp']+df['Parch']\n",
    "\n",
    "# Drop unneeded columns\n",
    "df = df.drop(columns = ['Cabin','Name','First Name','Last Name','SibSp','Parch','Remainder'])"
   ]
  },
  {
   "cell_type": "code",
   "execution_count": 357,
   "id": "f0df36e6",
   "metadata": {},
   "outputs": [
    {
     "data": {
      "text/html": [
       "<div>\n",
       "<style scoped>\n",
       "    .dataframe tbody tr th:only-of-type {\n",
       "        vertical-align: middle;\n",
       "    }\n",
       "\n",
       "    .dataframe tbody tr th {\n",
       "        vertical-align: top;\n",
       "    }\n",
       "\n",
       "    .dataframe thead th {\n",
       "        text-align: right;\n",
       "    }\n",
       "</style>\n",
       "<table border=\"1\" class=\"dataframe\">\n",
       "  <thead>\n",
       "    <tr style=\"text-align: right;\">\n",
       "      <th></th>\n",
       "      <th>Title</th>\n",
       "      <th>Pclass</th>\n",
       "      <th>Sex</th>\n",
       "      <th>Age</th>\n",
       "      <th>Family</th>\n",
       "      <th>Fare</th>\n",
       "      <th>Embarked</th>\n",
       "    </tr>\n",
       "  </thead>\n",
       "  <tbody>\n",
       "    <tr>\n",
       "      <th>0</th>\n",
       "      <td>Mrs</td>\n",
       "      <td>2</td>\n",
       "      <td>female</td>\n",
       "      <td>57.0</td>\n",
       "      <td>0</td>\n",
       "      <td>10.5000</td>\n",
       "      <td>S</td>\n",
       "    </tr>\n",
       "    <tr>\n",
       "      <th>1</th>\n",
       "      <td>Mr</td>\n",
       "      <td>2</td>\n",
       "      <td>male</td>\n",
       "      <td>32.0</td>\n",
       "      <td>1</td>\n",
       "      <td>26.0000</td>\n",
       "      <td>S</td>\n",
       "    </tr>\n",
       "    <tr>\n",
       "      <th>2</th>\n",
       "      <td>Miss</td>\n",
       "      <td>3</td>\n",
       "      <td>female</td>\n",
       "      <td>22.0</td>\n",
       "      <td>0</td>\n",
       "      <td>7.7500</td>\n",
       "      <td>Q</td>\n",
       "    </tr>\n",
       "    <tr>\n",
       "      <th>3</th>\n",
       "      <td>Miss</td>\n",
       "      <td>3</td>\n",
       "      <td>female</td>\n",
       "      <td>4.0</td>\n",
       "      <td>2</td>\n",
       "      <td>16.7000</td>\n",
       "      <td>S</td>\n",
       "    </tr>\n",
       "    <tr>\n",
       "      <th>4</th>\n",
       "      <td>Miss</td>\n",
       "      <td>3</td>\n",
       "      <td>female</td>\n",
       "      <td>9.0</td>\n",
       "      <td>4</td>\n",
       "      <td>34.3750</td>\n",
       "      <td>S</td>\n",
       "    </tr>\n",
       "    <tr>\n",
       "      <th>...</th>\n",
       "      <td>...</td>\n",
       "      <td>...</td>\n",
       "      <td>...</td>\n",
       "      <td>...</td>\n",
       "      <td>...</td>\n",
       "      <td>...</td>\n",
       "      <td>...</td>\n",
       "    </tr>\n",
       "    <tr>\n",
       "      <th>1042</th>\n",
       "      <td>Mr</td>\n",
       "      <td>2</td>\n",
       "      <td>male</td>\n",
       "      <td>25.0</td>\n",
       "      <td>0</td>\n",
       "      <td>10.5000</td>\n",
       "      <td>S</td>\n",
       "    </tr>\n",
       "    <tr>\n",
       "      <th>1043</th>\n",
       "      <td>Mrs</td>\n",
       "      <td>1</td>\n",
       "      <td>female</td>\n",
       "      <td>48.0</td>\n",
       "      <td>1</td>\n",
       "      <td>106.4250</td>\n",
       "      <td>C</td>\n",
       "    </tr>\n",
       "    <tr>\n",
       "      <th>1044</th>\n",
       "      <td>Mr</td>\n",
       "      <td>1</td>\n",
       "      <td>male</td>\n",
       "      <td>17.0</td>\n",
       "      <td>0</td>\n",
       "      <td>47.1000</td>\n",
       "      <td>S</td>\n",
       "    </tr>\n",
       "    <tr>\n",
       "      <th>1045</th>\n",
       "      <td>Mr</td>\n",
       "      <td>3</td>\n",
       "      <td>male</td>\n",
       "      <td>41.0</td>\n",
       "      <td>2</td>\n",
       "      <td>14.1083</td>\n",
       "      <td>S</td>\n",
       "    </tr>\n",
       "    <tr>\n",
       "      <th>1046</th>\n",
       "      <td>Mr</td>\n",
       "      <td>3</td>\n",
       "      <td>male</td>\n",
       "      <td>20.0</td>\n",
       "      <td>0</td>\n",
       "      <td>7.8542</td>\n",
       "      <td>S</td>\n",
       "    </tr>\n",
       "  </tbody>\n",
       "</table>\n",
       "<p>1047 rows × 7 columns</p>\n",
       "</div>"
      ],
      "text/plain": [
       "     Title  Pclass     Sex   Age  Family      Fare Embarked\n",
       "0      Mrs       2  female  57.0       0   10.5000        S\n",
       "1       Mr       2    male  32.0       1   26.0000        S\n",
       "2     Miss       3  female  22.0       0    7.7500        Q\n",
       "3     Miss       3  female   4.0       2   16.7000        S\n",
       "4     Miss       3  female   9.0       4   34.3750        S\n",
       "...    ...     ...     ...   ...     ...       ...      ...\n",
       "1042    Mr       2    male  25.0       0   10.5000        S\n",
       "1043   Mrs       1  female  48.0       1  106.4250        C\n",
       "1044    Mr       1    male  17.0       0   47.1000        S\n",
       "1045    Mr       3    male  41.0       2   14.1083        S\n",
       "1046    Mr       3    male  20.0       0    7.8542        S\n",
       "\n",
       "[1047 rows x 7 columns]"
      ]
     },
     "execution_count": 357,
     "metadata": {},
     "output_type": "execute_result"
    }
   ],
   "source": [
    "cols = ['Title','Pclass', 'Sex', 'Age', 'Family','Fare','Embarked']\n",
    "df = df[cols]\n",
    "df"
   ]
  },
  {
   "cell_type": "markdown",
   "id": "0783dc06",
   "metadata": {},
   "source": [
    "#### Titles"
   ]
  },
  {
   "cell_type": "code",
   "execution_count": 358,
   "id": "ce57dc7b",
   "metadata": {},
   "outputs": [
    {
     "data": {
      "text/html": [
       "<div>\n",
       "<style scoped>\n",
       "    .dataframe tbody tr th:only-of-type {\n",
       "        vertical-align: middle;\n",
       "    }\n",
       "\n",
       "    .dataframe tbody tr th {\n",
       "        vertical-align: top;\n",
       "    }\n",
       "\n",
       "    .dataframe thead th {\n",
       "        text-align: right;\n",
       "    }\n",
       "</style>\n",
       "<table border=\"1\" class=\"dataframe\">\n",
       "  <thead>\n",
       "    <tr style=\"text-align: right;\">\n",
       "      <th></th>\n",
       "      <th>Title</th>\n",
       "      <th>Entries</th>\n",
       "      <th>Max</th>\n",
       "      <th>Min</th>\n",
       "      <th>Avg</th>\n",
       "      <th>Sex</th>\n",
       "    </tr>\n",
       "  </thead>\n",
       "  <tbody>\n",
       "    <tr>\n",
       "      <th>0</th>\n",
       "      <td>Mrs</td>\n",
       "      <td>166</td>\n",
       "      <td>76.0</td>\n",
       "      <td>14.0</td>\n",
       "      <td>37.076389</td>\n",
       "      <td>female</td>\n",
       "    </tr>\n",
       "    <tr>\n",
       "      <th>0</th>\n",
       "      <td>Mr</td>\n",
       "      <td>610</td>\n",
       "      <td>74.0</td>\n",
       "      <td>14.0</td>\n",
       "      <td>31.902778</td>\n",
       "      <td>male</td>\n",
       "    </tr>\n",
       "    <tr>\n",
       "      <th>0</th>\n",
       "      <td>Miss</td>\n",
       "      <td>195</td>\n",
       "      <td>58.0</td>\n",
       "      <td>0.17</td>\n",
       "      <td>22.050854</td>\n",
       "      <td>female</td>\n",
       "    </tr>\n",
       "    <tr>\n",
       "      <th>0</th>\n",
       "      <td>Master</td>\n",
       "      <td>47</td>\n",
       "      <td>13.0</td>\n",
       "      <td>0.33</td>\n",
       "      <td>5.18125</td>\n",
       "      <td>male</td>\n",
       "    </tr>\n",
       "    <tr>\n",
       "      <th>0</th>\n",
       "      <td>Ms</td>\n",
       "      <td>2</td>\n",
       "      <td>28.0</td>\n",
       "      <td>28.0</td>\n",
       "      <td>28.0</td>\n",
       "      <td>female</td>\n",
       "    </tr>\n",
       "    <tr>\n",
       "      <th>0</th>\n",
       "      <td>Dr</td>\n",
       "      <td>8</td>\n",
       "      <td>54.0</td>\n",
       "      <td>23.0</td>\n",
       "      <td>43.571429</td>\n",
       "      <td>male</td>\n",
       "    </tr>\n",
       "    <tr>\n",
       "      <th>1</th>\n",
       "      <td>Dr</td>\n",
       "      <td>8</td>\n",
       "      <td>54.0</td>\n",
       "      <td>23.0</td>\n",
       "      <td>43.571429</td>\n",
       "      <td>female</td>\n",
       "    </tr>\n",
       "    <tr>\n",
       "      <th>0</th>\n",
       "      <td>Capt</td>\n",
       "      <td>1</td>\n",
       "      <td>70.0</td>\n",
       "      <td>70.0</td>\n",
       "      <td>70.0</td>\n",
       "      <td>male</td>\n",
       "    </tr>\n",
       "    <tr>\n",
       "      <th>0</th>\n",
       "      <td>Don</td>\n",
       "      <td>1</td>\n",
       "      <td>40.0</td>\n",
       "      <td>40.0</td>\n",
       "      <td>40.0</td>\n",
       "      <td>male</td>\n",
       "    </tr>\n",
       "    <tr>\n",
       "      <th>0</th>\n",
       "      <td>Sir</td>\n",
       "      <td>1</td>\n",
       "      <td>49.0</td>\n",
       "      <td>49.0</td>\n",
       "      <td>49.0</td>\n",
       "      <td>male</td>\n",
       "    </tr>\n",
       "    <tr>\n",
       "      <th>0</th>\n",
       "      <td>Rev</td>\n",
       "      <td>6</td>\n",
       "      <td>54.0</td>\n",
       "      <td>27.0</td>\n",
       "      <td>40.5</td>\n",
       "      <td>male</td>\n",
       "    </tr>\n",
       "    <tr>\n",
       "      <th>0</th>\n",
       "      <td>Col</td>\n",
       "      <td>3</td>\n",
       "      <td>60.0</td>\n",
       "      <td>53.0</td>\n",
       "      <td>56.333333</td>\n",
       "      <td>male</td>\n",
       "    </tr>\n",
       "    <tr>\n",
       "      <th>0</th>\n",
       "      <td>Major</td>\n",
       "      <td>1</td>\n",
       "      <td>52.0</td>\n",
       "      <td>52.0</td>\n",
       "      <td>52.0</td>\n",
       "      <td>male</td>\n",
       "    </tr>\n",
       "    <tr>\n",
       "      <th>0</th>\n",
       "      <td>theCountess</td>\n",
       "      <td>1</td>\n",
       "      <td>33.0</td>\n",
       "      <td>33.0</td>\n",
       "      <td>33.0</td>\n",
       "      <td>female</td>\n",
       "    </tr>\n",
       "    <tr>\n",
       "      <th>0</th>\n",
       "      <td>Mme</td>\n",
       "      <td>1</td>\n",
       "      <td>24.0</td>\n",
       "      <td>24.0</td>\n",
       "      <td>24.0</td>\n",
       "      <td>female</td>\n",
       "    </tr>\n",
       "    <tr>\n",
       "      <th>0</th>\n",
       "      <td>Jonkheer</td>\n",
       "      <td>1</td>\n",
       "      <td>38.0</td>\n",
       "      <td>38.0</td>\n",
       "      <td>38.0</td>\n",
       "      <td>male</td>\n",
       "    </tr>\n",
       "    <tr>\n",
       "      <th>0</th>\n",
       "      <td>Dona</td>\n",
       "      <td>1</td>\n",
       "      <td>39.0</td>\n",
       "      <td>39.0</td>\n",
       "      <td>39.0</td>\n",
       "      <td>female</td>\n",
       "    </tr>\n",
       "    <tr>\n",
       "      <th>0</th>\n",
       "      <td>Mlle</td>\n",
       "      <td>1</td>\n",
       "      <td>24.0</td>\n",
       "      <td>24.0</td>\n",
       "      <td>24.0</td>\n",
       "      <td>female</td>\n",
       "    </tr>\n",
       "    <tr>\n",
       "      <th>0</th>\n",
       "      <td>Lady</td>\n",
       "      <td>1</td>\n",
       "      <td>48.0</td>\n",
       "      <td>48.0</td>\n",
       "      <td>48.0</td>\n",
       "      <td>female</td>\n",
       "    </tr>\n",
       "  </tbody>\n",
       "</table>\n",
       "</div>"
      ],
      "text/plain": [
       "         Title Entries   Max   Min        Avg     Sex\n",
       "0          Mrs     166  76.0  14.0  37.076389  female\n",
       "0           Mr     610  74.0  14.0  31.902778    male\n",
       "0         Miss     195  58.0  0.17  22.050854  female\n",
       "0       Master      47  13.0  0.33    5.18125    male\n",
       "0           Ms       2  28.0  28.0       28.0  female\n",
       "0           Dr       8  54.0  23.0  43.571429    male\n",
       "1           Dr       8  54.0  23.0  43.571429  female\n",
       "0         Capt       1  70.0  70.0       70.0    male\n",
       "0          Don       1  40.0  40.0       40.0    male\n",
       "0          Sir       1  49.0  49.0       49.0    male\n",
       "0          Rev       6  54.0  27.0       40.5    male\n",
       "0          Col       3  60.0  53.0  56.333333    male\n",
       "0        Major       1  52.0  52.0       52.0    male\n",
       "0  theCountess       1  33.0  33.0       33.0  female\n",
       "0          Mme       1  24.0  24.0       24.0  female\n",
       "0     Jonkheer       1  38.0  38.0       38.0    male\n",
       "0         Dona       1  39.0  39.0       39.0  female\n",
       "0         Mlle       1  24.0  24.0       24.0  female\n",
       "0         Lady       1  48.0  48.0       48.0  female"
      ]
     },
     "execution_count": 358,
     "metadata": {},
     "output_type": "execute_result"
    }
   ],
   "source": [
    "def honorific_map(df):\n",
    "    title_cat = ['Title','Entries','Max','Min','Avg','Sex']\n",
    "    title_df = pd.DataFrame(columns = title_cat)\n",
    "\n",
    "    for title in df['Title'].unique():\n",
    "        ent = len(df.loc[(df['Title'] == title)]['Age'])\n",
    "        maxim = df.loc[(df['Title'] == title)]['Age'].max()\n",
    "        minim = df.loc[(df['Title'] == title)]['Age'].min()\n",
    "        avg = df.loc[(df['Title'] == title)]['Age'].mean()\n",
    "        sex = df.loc[(df['Title'] == title)]['Sex'].unique()\n",
    "        df_new = pd.DataFrame({'Title':title,'Entries':ent,'Max':maxim,'Min':minim,'Avg':avg,'Sex':sex})\n",
    "        \n",
    "        title_df = pd.concat([title_df,df_new])\n",
    "    \n",
    "    return title_df\n",
    "\n",
    "honorific_map(df)"
   ]
  },
  {
   "cell_type": "code",
   "execution_count": 359,
   "id": "0908119f",
   "metadata": {},
   "outputs": [],
   "source": [
    "#Create a dictionary for all titles/honorifics that contain only one sex\n",
    "honorifics = {}\n",
    "\n",
    "mr = ['Mr','Don', 'Rev','Major','Sir','Col','Capt','Jonkheer']\n",
    "mrs = ['Mrs','Mme','theCountess','Dona','Lady']\n",
    "miss = ['Miss','Mlle','Ms']\n",
    "master = ['Master']"
   ]
  },
  {
   "cell_type": "code",
   "execution_count": 360,
   "id": "5837424b",
   "metadata": {},
   "outputs": [
    {
     "data": {
      "text/plain": [
       "array(['Mrs', 'Mr', 'Miss', 'Master', nan], dtype=object)"
      ]
     },
     "execution_count": 360,
     "metadata": {},
     "output_type": "execute_result"
    }
   ],
   "source": [
    "#Create a dictionary for all titles/honorifics that contain only one sex\n",
    "honorifics = {}\n",
    "\n",
    "mr = ['Mr','Don', 'Rev','Major','Sir','Col','Capt','Jonkheer']\n",
    "mrs = ['Mrs','Mme','theCountess','Dona','Lady']\n",
    "miss = ['Miss','Mlle','Ms']\n",
    "master = ['Master']\n",
    "\n",
    "for key in mr:\n",
    "    honorifics[key] = \"Mr\"\n",
    "for key in miss:\n",
    "    honorifics[key] = \"Miss\"\n",
    "for key in mrs:\n",
    "    honorifics[key] = \"Mrs\"\n",
    "for key in master:\n",
    "    honorifics[key] = \"Master\"\n",
    "\n",
    "#map the dictionary across the title field\n",
    "df[\"Title\"] = df[\"Title\"].map(honorifics)\n",
    "df['Title'].unique()"
   ]
  },
  {
   "cell_type": "code",
   "execution_count": 361,
   "id": "e1a3ab65",
   "metadata": {},
   "outputs": [
    {
     "data": {
      "text/plain": [
       "array(['Mrs', 'Mr', 'Miss', 'Master'], dtype=object)"
      ]
     },
     "execution_count": 361,
     "metadata": {},
     "output_type": "execute_result"
    }
   ],
   "source": [
    "#all titles/honorifics that contained both sexes are now marked as NaN\n",
    "for i,j in enumerate(df['Title']):\n",
    "    if df.loc[i,'Title'] not in ['Mr','Mrs','Miss','Master']:\n",
    "        if df.loc[i,'Sex'] == 'male':\n",
    "            df.loc[i,'Title'] = 'Mr'\n",
    "        else:\n",
    "            df.loc[i,'Title'] = 'Mrs'\n",
    "            \n",
    "df['Title'].unique()"
   ]
  },
  {
   "cell_type": "markdown",
   "id": "c4183fdd",
   "metadata": {},
   "source": [
    "### Age"
   ]
  },
  {
   "cell_type": "code",
   "execution_count": 362,
   "id": "21b34cfe",
   "metadata": {},
   "outputs": [
    {
     "data": {
      "text/plain": [
       "Text(0.5, 1.0, 'Master')"
      ]
     },
     "execution_count": 362,
     "metadata": {},
     "output_type": "execute_result"
    },
    {
     "data": {
      "image/png": "[encoded data removed]",
      "text/plain": [
       "<Figure size 720x360 with 4 Axes>"
      ]
     },
     "metadata": {},
     "output_type": "display_data"
    }
   ],
   "source": [
    "fig, axs = plt.subplots(2, 2,figsize=(10,5),sharex=True, sharey=True)\n",
    "fig.suptitle('Age Distribution of Different Titles')\n",
    "fig.tight_layout()\n",
    "\n",
    "axs[0,0].hist(df[df['Title'] == 'Mr']['Age'].dropna().tolist())\n",
    "axs[0,0].set_title(\"Mr\")\n",
    "\n",
    "axs[0,1].hist(df[df['Title'] == 'Mrs']['Age'].dropna().tolist())\n",
    "axs[0,1].set_title(\"Mrs\")\n",
    "\n",
    "axs[1,0].hist(df[df['Title'] == 'Miss']['Age'].dropna().tolist())\n",
    "axs[1,0].set_title(\"Miss\")\n",
    "\n",
    "axs[1,1].hist(df[df['Title'] == 'Master']['Age'].dropna().tolist())\n",
    "axs[1,1].set_title(\"Master\")"
   ]
  },
  {
   "cell_type": "markdown",
   "id": "b28f6c23",
   "metadata": {},
   "source": [
    "originally, I had just subsistuted missing ages with the Title mean age, but that really distorted the distribution. So instead I opt to replace each missing data point with a random integer within one standard deviation away from the mean for each title\n",
    "$$\n",
    " \\text{age} = \\mu_{\\text{title}} \\pm \\sigma_{\\text{title}}\n",
    "$$"
   ]
  },
  {
   "cell_type": "code",
   "execution_count": 363,
   "id": "adb7f36c",
   "metadata": {},
   "outputs": [],
   "source": [
    "def random_age(title,dataframe):\n",
    "    minim = dataframe[dataframe['Title']==title]['Age'].mean()-dataframe[dataframe['Title']==title]['Age'].std()\n",
    "    maxim = dataframe[dataframe['Title']==title]['Age'].mean()+dataframe[dataframe['Title']==title]['Age'].std()\n",
    "    \n",
    "    return random.randint(int(minim),int(maxim))"
   ]
  },
  {
   "cell_type": "code",
   "execution_count": 364,
   "id": "6d7ec07f",
   "metadata": {},
   "outputs": [],
   "source": [
    "nan_index = df['Age'][np.isnan(df['Age'])]\n",
    "nan_index = nan_index.index.values.tolist()\n",
    "\n",
    "for index in nan_index:\n",
    "    df.loc[index,'Age'] = random_age(df.loc[index,\"Title\"],df)"
   ]
  },
  {
   "cell_type": "code",
   "execution_count": 365,
   "id": "f9e16956",
   "metadata": {},
   "outputs": [
    {
     "data": {
      "text/plain": [
       "Text(0.5, 1.0, 'Master')"
      ]
     },
     "execution_count": 365,
     "metadata": {},
     "output_type": "execute_result"
    },
    {
     "data": {
      "image/png": "[encoded data removed]",
      "text/plain": [
       "<Figure size 720x360 with 4 Axes>"
      ]
     },
     "metadata": {},
     "output_type": "display_data"
    }
   ],
   "source": [
    "fig, axs = plt.subplots(2, 2,figsize=(10,5),sharex=True, sharey=True)\n",
    "fig.suptitle('Age Distribution of Different Titles after Substitution')\n",
    "fig.tight_layout()\n",
    "axs[0,0].hist(np.array(df[df['Title'] == 'Mr']['Age']))\n",
    "axs[0,0].set_title(\"Mr\")\n",
    "axs[0,1].hist(np.array(df[df['Title'] == 'Mrs']['Age']))\n",
    "axs[0,1].set_title(\"Mrs\")\n",
    "axs[1,0].hist(np.array(df[df['Title'] == 'Miss']['Age']))\n",
    "axs[1,0].set_title(\"Miss\")\n",
    "axs[1,1].hist(np.array(df[df['Title'] == 'Master']['Age']))\n",
    "axs[1,1].set_title(\"Master\")"
   ]
  },
  {
   "cell_type": "markdown",
   "id": "6e30e319",
   "metadata": {},
   "source": [
    "We filled in the missing data and maintained the distribution of ages"
   ]
  },
  {
   "cell_type": "markdown",
   "id": "752c675d",
   "metadata": {},
   "source": [
    "## CHECKPOINT"
   ]
  },
  {
   "cell_type": "code",
   "execution_count": 366,
   "id": "de7cf025",
   "metadata": {},
   "outputs": [],
   "source": [
    "df_cp_1 = df.copy()"
   ]
  },
  {
   "cell_type": "code",
   "execution_count": 367,
   "id": "7a9d6cd1",
   "metadata": {},
   "outputs": [
    {
     "data": {
      "text/plain": [
       "Title       0\n",
       "Pclass      0\n",
       "Sex         0\n",
       "Age         0\n",
       "Family      0\n",
       "Fare        1\n",
       "Embarked    2\n",
       "dtype: int64"
      ]
     },
     "execution_count": 367,
     "metadata": {},
     "output_type": "execute_result"
    }
   ],
   "source": [
    "df_cp_1.isnull().sum()"
   ]
  },
  {
   "cell_type": "code",
   "execution_count": 368,
   "id": "5355298a",
   "metadata": {},
   "outputs": [
    {
     "name": "stdout",
     "output_type": "stream",
     "text": [
      "<class 'pandas.core.frame.DataFrame'>\n",
      "RangeIndex: 1047 entries, 0 to 1046\n",
      "Data columns (total 7 columns):\n",
      " #   Column    Non-Null Count  Dtype  \n",
      "---  ------    --------------  -----  \n",
      " 0   Title     1047 non-null   object \n",
      " 1   Pclass    1047 non-null   int64  \n",
      " 2   Sex       1047 non-null   object \n",
      " 3   Age       1047 non-null   float64\n",
      " 4   Family    1047 non-null   int64  \n",
      " 5   Fare      1046 non-null   float64\n",
      " 6   Embarked  1045 non-null   object \n",
      "dtypes: float64(2), int64(2), object(3)\n",
      "memory usage: 57.4+ KB\n"
     ]
    }
   ],
   "source": [
    "df_cp_1.info()"
   ]
  },
  {
   "cell_type": "markdown",
   "id": "25d9a919",
   "metadata": {},
   "source": [
    "### Fare"
   ]
  },
  {
   "cell_type": "markdown",
   "id": "7e31dc2f",
   "metadata": {},
   "source": [
    "We could take a similar approach to the missing Fare values. There should be a difference between 1st, 2nd, and 3rd class tickets so it makes sense take the average of the ticket based on Pclass. But with only 1 missing value outof the enitre data, we will just do a simple average"
   ]
  },
  {
   "cell_type": "code",
   "execution_count": 369,
   "id": "cd2c01c8",
   "metadata": {},
   "outputs": [],
   "source": [
    "df_cp_1['Fare'].fillna(df_cp_1['Fare'].mean(),inplace=True)"
   ]
  },
  {
   "cell_type": "code",
   "execution_count": 370,
   "id": "cac182fd",
   "metadata": {},
   "outputs": [
    {
     "data": {
      "text/plain": [
       "Title       0\n",
       "Pclass      0\n",
       "Sex         0\n",
       "Age         0\n",
       "Family      0\n",
       "Fare        0\n",
       "Embarked    2\n",
       "dtype: int64"
      ]
     },
     "execution_count": 370,
     "metadata": {},
     "output_type": "execute_result"
    }
   ],
   "source": [
    "df_cp_1.isnull().sum()"
   ]
  },
  {
   "cell_type": "markdown",
   "id": "29d36fd3",
   "metadata": {},
   "source": [
    "### Embarked"
   ]
  },
  {
   "cell_type": "markdown",
   "id": "49fc027f",
   "metadata": {},
   "source": [
    "Again, we are not missing much data so we can fill the missing data with the most common port of origin as it is most likely where that passenger boarded."
   ]
  },
  {
   "cell_type": "code",
   "execution_count": 371,
   "id": "4d3ed947",
   "metadata": {},
   "outputs": [
    {
     "data": {
      "text/plain": [
       "S    740\n",
       "C    215\n",
       "Q     90\n",
       "Name: Embarked, dtype: int64"
      ]
     },
     "execution_count": 371,
     "metadata": {},
     "output_type": "execute_result"
    }
   ],
   "source": [
    "df_cp_1['Embarked'].value_counts()"
   ]
  },
  {
   "cell_type": "code",
   "execution_count": 372,
   "id": "fb0168a0",
   "metadata": {},
   "outputs": [],
   "source": [
    "df_cp_1['Embarked'].fillna('S',inplace=True)"
   ]
  },
  {
   "cell_type": "code",
   "execution_count": 373,
   "id": "a239f2ff",
   "metadata": {},
   "outputs": [
    {
     "data": {
      "text/plain": [
       "Title       0\n",
       "Pclass      0\n",
       "Sex         0\n",
       "Age         0\n",
       "Family      0\n",
       "Fare        0\n",
       "Embarked    0\n",
       "dtype: int64"
      ]
     },
     "execution_count": 373,
     "metadata": {},
     "output_type": "execute_result"
    }
   ],
   "source": [
    "df_cp_1.isnull().sum()"
   ]
  },
  {
   "cell_type": "code",
   "execution_count": 374,
   "id": "771619ed",
   "metadata": {
    "scrolled": true
   },
   "outputs": [
    {
     "name": "stdout",
     "output_type": "stream",
     "text": [
      "<class 'pandas.core.frame.DataFrame'>\n",
      "RangeIndex: 1047 entries, 0 to 1046\n",
      "Data columns (total 7 columns):\n",
      " #   Column    Non-Null Count  Dtype  \n",
      "---  ------    --------------  -----  \n",
      " 0   Title     1047 non-null   object \n",
      " 1   Pclass    1047 non-null   int64  \n",
      " 2   Sex       1047 non-null   object \n",
      " 3   Age       1047 non-null   float64\n",
      " 4   Family    1047 non-null   int64  \n",
      " 5   Fare      1047 non-null   float64\n",
      " 6   Embarked  1047 non-null   object \n",
      "dtypes: float64(2), int64(2), object(3)\n",
      "memory usage: 57.4+ KB\n"
     ]
    }
   ],
   "source": [
    "df_cp_1.info()"
   ]
  },
  {
   "cell_type": "markdown",
   "id": "bf90d3d0",
   "metadata": {},
   "source": [
    "## Checkpoint"
   ]
  },
  {
   "cell_type": "code",
   "execution_count": 375,
   "id": "e3384c94",
   "metadata": {},
   "outputs": [
    {
     "data": {
      "text/html": [
       "<div>\n",
       "<style scoped>\n",
       "    .dataframe tbody tr th:only-of-type {\n",
       "        vertical-align: middle;\n",
       "    }\n",
       "\n",
       "    .dataframe tbody tr th {\n",
       "        vertical-align: top;\n",
       "    }\n",
       "\n",
       "    .dataframe thead th {\n",
       "        text-align: right;\n",
       "    }\n",
       "</style>\n",
       "<table border=\"1\" class=\"dataframe\">\n",
       "  <thead>\n",
       "    <tr style=\"text-align: right;\">\n",
       "      <th></th>\n",
       "      <th>Title</th>\n",
       "      <th>Pclass</th>\n",
       "      <th>Sex</th>\n",
       "      <th>Age</th>\n",
       "      <th>Family</th>\n",
       "      <th>Fare</th>\n",
       "      <th>Embarked</th>\n",
       "    </tr>\n",
       "  </thead>\n",
       "  <tbody>\n",
       "    <tr>\n",
       "      <th>0</th>\n",
       "      <td>Mrs</td>\n",
       "      <td>2</td>\n",
       "      <td>female</td>\n",
       "      <td>57.0</td>\n",
       "      <td>0</td>\n",
       "      <td>10.500</td>\n",
       "      <td>S</td>\n",
       "    </tr>\n",
       "    <tr>\n",
       "      <th>1</th>\n",
       "      <td>Mr</td>\n",
       "      <td>2</td>\n",
       "      <td>male</td>\n",
       "      <td>32.0</td>\n",
       "      <td>1</td>\n",
       "      <td>26.000</td>\n",
       "      <td>S</td>\n",
       "    </tr>\n",
       "    <tr>\n",
       "      <th>2</th>\n",
       "      <td>Miss</td>\n",
       "      <td>3</td>\n",
       "      <td>female</td>\n",
       "      <td>22.0</td>\n",
       "      <td>0</td>\n",
       "      <td>7.750</td>\n",
       "      <td>Q</td>\n",
       "    </tr>\n",
       "    <tr>\n",
       "      <th>3</th>\n",
       "      <td>Miss</td>\n",
       "      <td>3</td>\n",
       "      <td>female</td>\n",
       "      <td>4.0</td>\n",
       "      <td>2</td>\n",
       "      <td>16.700</td>\n",
       "      <td>S</td>\n",
       "    </tr>\n",
       "    <tr>\n",
       "      <th>4</th>\n",
       "      <td>Miss</td>\n",
       "      <td>3</td>\n",
       "      <td>female</td>\n",
       "      <td>9.0</td>\n",
       "      <td>4</td>\n",
       "      <td>34.375</td>\n",
       "      <td>S</td>\n",
       "    </tr>\n",
       "  </tbody>\n",
       "</table>\n",
       "</div>"
      ],
      "text/plain": [
       "  Title  Pclass     Sex   Age  Family    Fare Embarked\n",
       "0   Mrs       2  female  57.0       0  10.500        S\n",
       "1    Mr       2    male  32.0       1  26.000        S\n",
       "2  Miss       3  female  22.0       0   7.750        Q\n",
       "3  Miss       3  female   4.0       2  16.700        S\n",
       "4  Miss       3  female   9.0       4  34.375        S"
      ]
     },
     "execution_count": 375,
     "metadata": {},
     "output_type": "execute_result"
    }
   ],
   "source": [
    "df_filled = df_cp_1.copy()\n",
    "df_filled.head()"
   ]
  },
  {
   "cell_type": "markdown",
   "id": "5bca042b",
   "metadata": {},
   "source": [
    "## Handling Categorical Data"
   ]
  },
  {
   "cell_type": "markdown",
   "id": "6f8b5e22",
   "metadata": {},
   "source": [
    "Sex, Title, and Embarked have a simple integer mapping"
   ]
  },
  {
   "cell_type": "markdown",
   "id": "dd4561d6",
   "metadata": {},
   "source": [
    "### Sex"
   ]
  },
  {
   "cell_type": "code",
   "execution_count": 376,
   "id": "7a466a8a",
   "metadata": {},
   "outputs": [],
   "source": [
    "df_filled['Sex'] = df_filled['Sex'].map({'male':1,'female':0})"
   ]
  },
  {
   "cell_type": "markdown",
   "id": "a37540b8",
   "metadata": {},
   "source": [
    "### Title"
   ]
  },
  {
   "cell_type": "code",
   "execution_count": 377,
   "id": "488333cb",
   "metadata": {},
   "outputs": [],
   "source": [
    "df_filled['Title'] = df_filled['Title'].map({'Master':3,'Miss':1,'Mr':2,'Mrs':0})"
   ]
  },
  {
   "cell_type": "markdown",
   "id": "4f88ca3b",
   "metadata": {},
   "source": [
    "### Embarked"
   ]
  },
  {
   "cell_type": "code",
   "execution_count": 378,
   "id": "4358a44c",
   "metadata": {},
   "outputs": [],
   "source": [
    "df_filled['Embarked'] = df_filled['Embarked'].map({'C':0,'Q':1,'S':2})"
   ]
  },
  {
   "cell_type": "code",
   "execution_count": 379,
   "id": "719bc0c8",
   "metadata": {},
   "outputs": [
    {
     "data": {
      "text/html": [
       "<div>\n",
       "<style scoped>\n",
       "    .dataframe tbody tr th:only-of-type {\n",
       "        vertical-align: middle;\n",
       "    }\n",
       "\n",
       "    .dataframe tbody tr th {\n",
       "        vertical-align: top;\n",
       "    }\n",
       "\n",
       "    .dataframe thead th {\n",
       "        text-align: right;\n",
       "    }\n",
       "</style>\n",
       "<table border=\"1\" class=\"dataframe\">\n",
       "  <thead>\n",
       "    <tr style=\"text-align: right;\">\n",
       "      <th></th>\n",
       "      <th>Title</th>\n",
       "      <th>Pclass</th>\n",
       "      <th>Sex</th>\n",
       "      <th>Age</th>\n",
       "      <th>Family</th>\n",
       "      <th>Fare</th>\n",
       "      <th>Embarked</th>\n",
       "    </tr>\n",
       "  </thead>\n",
       "  <tbody>\n",
       "    <tr>\n",
       "      <th>0</th>\n",
       "      <td>0</td>\n",
       "      <td>2</td>\n",
       "      <td>0</td>\n",
       "      <td>57.0</td>\n",
       "      <td>0</td>\n",
       "      <td>10.500</td>\n",
       "      <td>2</td>\n",
       "    </tr>\n",
       "    <tr>\n",
       "      <th>1</th>\n",
       "      <td>2</td>\n",
       "      <td>2</td>\n",
       "      <td>1</td>\n",
       "      <td>32.0</td>\n",
       "      <td>1</td>\n",
       "      <td>26.000</td>\n",
       "      <td>2</td>\n",
       "    </tr>\n",
       "    <tr>\n",
       "      <th>2</th>\n",
       "      <td>1</td>\n",
       "      <td>3</td>\n",
       "      <td>0</td>\n",
       "      <td>22.0</td>\n",
       "      <td>0</td>\n",
       "      <td>7.750</td>\n",
       "      <td>1</td>\n",
       "    </tr>\n",
       "    <tr>\n",
       "      <th>3</th>\n",
       "      <td>1</td>\n",
       "      <td>3</td>\n",
       "      <td>0</td>\n",
       "      <td>4.0</td>\n",
       "      <td>2</td>\n",
       "      <td>16.700</td>\n",
       "      <td>2</td>\n",
       "    </tr>\n",
       "    <tr>\n",
       "      <th>4</th>\n",
       "      <td>1</td>\n",
       "      <td>3</td>\n",
       "      <td>0</td>\n",
       "      <td>9.0</td>\n",
       "      <td>4</td>\n",
       "      <td>34.375</td>\n",
       "      <td>2</td>\n",
       "    </tr>\n",
       "  </tbody>\n",
       "</table>\n",
       "</div>"
      ],
      "text/plain": [
       "   Title  Pclass  Sex   Age  Family    Fare  Embarked\n",
       "0      0       2    0  57.0       0  10.500         2\n",
       "1      2       2    1  32.0       1  26.000         2\n",
       "2      1       3    0  22.0       0   7.750         1\n",
       "3      1       3    0   4.0       2  16.700         2\n",
       "4      1       3    0   9.0       4  34.375         2"
      ]
     },
     "execution_count": 379,
     "metadata": {},
     "output_type": "execute_result"
    }
   ],
   "source": [
    "df_filled.head()"
   ]
  },
  {
   "cell_type": "code",
   "execution_count": 380,
   "id": "dd3e0a75",
   "metadata": {},
   "outputs": [
    {
     "name": "stdout",
     "output_type": "stream",
     "text": [
      "<class 'pandas.core.frame.DataFrame'>\n",
      "RangeIndex: 1047 entries, 0 to 1046\n",
      "Data columns (total 7 columns):\n",
      " #   Column    Non-Null Count  Dtype  \n",
      "---  ------    --------------  -----  \n",
      " 0   Title     1047 non-null   int64  \n",
      " 1   Pclass    1047 non-null   int64  \n",
      " 2   Sex       1047 non-null   int64  \n",
      " 3   Age       1047 non-null   float64\n",
      " 4   Family    1047 non-null   int64  \n",
      " 5   Fare      1047 non-null   float64\n",
      " 6   Embarked  1047 non-null   int64  \n",
      "dtypes: float64(2), int64(5)\n",
      "memory usage: 57.4 KB\n"
     ]
    }
   ],
   "source": [
    "df_filled.info()"
   ]
  },
  {
   "cell_type": "markdown",
   "id": "ca5426a8",
   "metadata": {},
   "source": [
    "### Age and Fare"
   ]
  },
  {
   "cell_type": "markdown",
   "id": "5bb4ebc1",
   "metadata": {},
   "source": [
    "Im going to need to reduce the number of unique values for the two ranges"
   ]
  },
  {
   "cell_type": "code",
   "execution_count": 381,
   "id": "0768a947",
   "metadata": {},
   "outputs": [
    {
     "data": {
      "text/plain": [
       "Text(0.5, 1.0, 'Fare')"
      ]
     },
     "execution_count": 381,
     "metadata": {},
     "output_type": "execute_result"
    },
    {
     "data": {
      "image/png": "[encoded data removed]",
      "text/plain": [
       "<Figure size 1080x288 with 2 Axes>"
      ]
     },
     "metadata": {},
     "output_type": "display_data"
    }
   ],
   "source": [
    "fig, axes = plt.subplots(1, 2,figsize = (15,4))\n",
    "fig.suptitle('Distribution of Ages and Fares')\n",
    "\n",
    "\n",
    "lower_fares = df_filled[df_filled['Fare']<100]\n",
    "\n",
    "ax = sns.histplot(df_filled['Age'],  ax = axes[0], bins = 12, kde=True)\n",
    "ax.set_title(\"Age\")\n",
    "ax = sns.histplot(lower_fares['Fare'], ax = axes[1], bins = 12, kde=True)\n",
    "ax.set_title(\"Fare\")"
   ]
  },
  {
   "cell_type": "code",
   "execution_count": 382,
   "id": "8fcbf1f2",
   "metadata": {},
   "outputs": [],
   "source": [
    "bin_size = 12"
   ]
  },
  {
   "cell_type": "code",
   "execution_count": 383,
   "id": "5a537dfa",
   "metadata": {},
   "outputs": [
    {
     "data": {
      "text/plain": [
       "7"
      ]
     },
     "execution_count": 383,
     "metadata": {},
     "output_type": "execute_result"
    }
   ],
   "source": [
    "int(lower_fares['Fare'].max()/bin_size)"
   ]
  },
  {
   "cell_type": "code",
   "execution_count": 384,
   "id": "98236146",
   "metadata": {},
   "outputs": [
    {
     "data": {
      "text/plain": [
       "6"
      ]
     },
     "execution_count": 384,
     "metadata": {},
     "output_type": "execute_result"
    }
   ],
   "source": [
    "int(lower_fares['Age'].max()/bin_size)"
   ]
  },
  {
   "cell_type": "code",
   "execution_count": 385,
   "id": "e360df34",
   "metadata": {},
   "outputs": [],
   "source": [
    "df_filled['Age']=df_filled['Age'].map(lambda x: x//int(lower_fares['Age'].max()/bin_size)).astype(int)"
   ]
  },
  {
   "cell_type": "code",
   "execution_count": 386,
   "id": "b4873474",
   "metadata": {},
   "outputs": [],
   "source": [
    "df_filled['Fare']=df_filled['Fare'].map(lambda x: x//int(lower_fares['Fare'].max()/bin_size)).astype(int)"
   ]
  },
  {
   "cell_type": "code",
   "execution_count": 387,
   "id": "5876280f",
   "metadata": {},
   "outputs": [
    {
     "data": {
      "text/html": [
       "<div>\n",
       "<style scoped>\n",
       "    .dataframe tbody tr th:only-of-type {\n",
       "        vertical-align: middle;\n",
       "    }\n",
       "\n",
       "    .dataframe tbody tr th {\n",
       "        vertical-align: top;\n",
       "    }\n",
       "\n",
       "    .dataframe thead th {\n",
       "        text-align: right;\n",
       "    }\n",
       "</style>\n",
       "<table border=\"1\" class=\"dataframe\">\n",
       "  <thead>\n",
       "    <tr style=\"text-align: right;\">\n",
       "      <th></th>\n",
       "      <th>Title</th>\n",
       "      <th>Pclass</th>\n",
       "      <th>Sex</th>\n",
       "      <th>Age</th>\n",
       "      <th>Family</th>\n",
       "      <th>Fare</th>\n",
       "      <th>Embarked</th>\n",
       "    </tr>\n",
       "  </thead>\n",
       "  <tbody>\n",
       "    <tr>\n",
       "      <th>0</th>\n",
       "      <td>0</td>\n",
       "      <td>2</td>\n",
       "      <td>0</td>\n",
       "      <td>9</td>\n",
       "      <td>0</td>\n",
       "      <td>1</td>\n",
       "      <td>2</td>\n",
       "    </tr>\n",
       "    <tr>\n",
       "      <th>1</th>\n",
       "      <td>2</td>\n",
       "      <td>2</td>\n",
       "      <td>1</td>\n",
       "      <td>5</td>\n",
       "      <td>1</td>\n",
       "      <td>3</td>\n",
       "      <td>2</td>\n",
       "    </tr>\n",
       "    <tr>\n",
       "      <th>2</th>\n",
       "      <td>1</td>\n",
       "      <td>3</td>\n",
       "      <td>0</td>\n",
       "      <td>3</td>\n",
       "      <td>0</td>\n",
       "      <td>1</td>\n",
       "      <td>1</td>\n",
       "    </tr>\n",
       "    <tr>\n",
       "      <th>3</th>\n",
       "      <td>1</td>\n",
       "      <td>3</td>\n",
       "      <td>0</td>\n",
       "      <td>0</td>\n",
       "      <td>2</td>\n",
       "      <td>2</td>\n",
       "      <td>2</td>\n",
       "    </tr>\n",
       "    <tr>\n",
       "      <th>4</th>\n",
       "      <td>1</td>\n",
       "      <td>3</td>\n",
       "      <td>0</td>\n",
       "      <td>1</td>\n",
       "      <td>4</td>\n",
       "      <td>4</td>\n",
       "      <td>2</td>\n",
       "    </tr>\n",
       "    <tr>\n",
       "      <th>...</th>\n",
       "      <td>...</td>\n",
       "      <td>...</td>\n",
       "      <td>...</td>\n",
       "      <td>...</td>\n",
       "      <td>...</td>\n",
       "      <td>...</td>\n",
       "      <td>...</td>\n",
       "    </tr>\n",
       "    <tr>\n",
       "      <th>1042</th>\n",
       "      <td>2</td>\n",
       "      <td>2</td>\n",
       "      <td>1</td>\n",
       "      <td>4</td>\n",
       "      <td>0</td>\n",
       "      <td>1</td>\n",
       "      <td>2</td>\n",
       "    </tr>\n",
       "    <tr>\n",
       "      <th>1043</th>\n",
       "      <td>0</td>\n",
       "      <td>1</td>\n",
       "      <td>0</td>\n",
       "      <td>8</td>\n",
       "      <td>1</td>\n",
       "      <td>15</td>\n",
       "      <td>0</td>\n",
       "    </tr>\n",
       "    <tr>\n",
       "      <th>1044</th>\n",
       "      <td>2</td>\n",
       "      <td>1</td>\n",
       "      <td>1</td>\n",
       "      <td>2</td>\n",
       "      <td>0</td>\n",
       "      <td>6</td>\n",
       "      <td>2</td>\n",
       "    </tr>\n",
       "    <tr>\n",
       "      <th>1045</th>\n",
       "      <td>2</td>\n",
       "      <td>3</td>\n",
       "      <td>1</td>\n",
       "      <td>6</td>\n",
       "      <td>2</td>\n",
       "      <td>2</td>\n",
       "      <td>2</td>\n",
       "    </tr>\n",
       "    <tr>\n",
       "      <th>1046</th>\n",
       "      <td>2</td>\n",
       "      <td>3</td>\n",
       "      <td>1</td>\n",
       "      <td>3</td>\n",
       "      <td>0</td>\n",
       "      <td>1</td>\n",
       "      <td>2</td>\n",
       "    </tr>\n",
       "  </tbody>\n",
       "</table>\n",
       "<p>1047 rows × 7 columns</p>\n",
       "</div>"
      ],
      "text/plain": [
       "      Title  Pclass  Sex  Age  Family  Fare  Embarked\n",
       "0         0       2    0    9       0     1         2\n",
       "1         2       2    1    5       1     3         2\n",
       "2         1       3    0    3       0     1         1\n",
       "3         1       3    0    0       2     2         2\n",
       "4         1       3    0    1       4     4         2\n",
       "...     ...     ...  ...  ...     ...   ...       ...\n",
       "1042      2       2    1    4       0     1         2\n",
       "1043      0       1    0    8       1    15         0\n",
       "1044      2       1    1    2       0     6         2\n",
       "1045      2       3    1    6       2     2         2\n",
       "1046      2       3    1    3       0     1         2\n",
       "\n",
       "[1047 rows x 7 columns]"
      ]
     },
     "execution_count": 387,
     "metadata": {},
     "output_type": "execute_result"
    }
   ],
   "source": [
    "df_filled"
   ]
  },
  {
   "cell_type": "code",
   "execution_count": 388,
   "id": "2164b865",
   "metadata": {},
   "outputs": [],
   "source": [
    "data_train_cleaned = df_filled.copy()"
   ]
  },
  {
   "cell_type": "markdown",
   "id": "0816664b",
   "metadata": {},
   "source": [
    "## Simplified Cleaning Code for Test Data"
   ]
  },
  {
   "cell_type": "code",
   "execution_count": 389,
   "id": "3c0dd52b",
   "metadata": {},
   "outputs": [],
   "source": [
    "dft = df_test.copy()"
   ]
  },
  {
   "cell_type": "code",
   "execution_count": 390,
   "id": "6e53298d",
   "metadata": {},
   "outputs": [
    {
     "data": {
      "text/html": [
       "<div>\n",
       "<style scoped>\n",
       "    .dataframe tbody tr th:only-of-type {\n",
       "        vertical-align: middle;\n",
       "    }\n",
       "\n",
       "    .dataframe tbody tr th {\n",
       "        vertical-align: top;\n",
       "    }\n",
       "\n",
       "    .dataframe thead th {\n",
       "        text-align: right;\n",
       "    }\n",
       "</style>\n",
       "<table border=\"1\" class=\"dataframe\">\n",
       "  <thead>\n",
       "    <tr style=\"text-align: right;\">\n",
       "      <th></th>\n",
       "      <th>Title</th>\n",
       "      <th>Pclass</th>\n",
       "      <th>Sex</th>\n",
       "      <th>Age</th>\n",
       "      <th>Family</th>\n",
       "      <th>Fare</th>\n",
       "      <th>Embarked</th>\n",
       "    </tr>\n",
       "  </thead>\n",
       "  <tbody>\n",
       "    <tr>\n",
       "      <th>0</th>\n",
       "      <td>2</td>\n",
       "      <td>3</td>\n",
       "      <td>1</td>\n",
       "      <td>4</td>\n",
       "      <td>0</td>\n",
       "      <td>1</td>\n",
       "      <td>2</td>\n",
       "    </tr>\n",
       "    <tr>\n",
       "      <th>1</th>\n",
       "      <td>2</td>\n",
       "      <td>1</td>\n",
       "      <td>1</td>\n",
       "      <td>7</td>\n",
       "      <td>0</td>\n",
       "      <td>3</td>\n",
       "      <td>2</td>\n",
       "    </tr>\n",
       "    <tr>\n",
       "      <th>2</th>\n",
       "      <td>2</td>\n",
       "      <td>3</td>\n",
       "      <td>1</td>\n",
       "      <td>6</td>\n",
       "      <td>0</td>\n",
       "      <td>1</td>\n",
       "      <td>2</td>\n",
       "    </tr>\n",
       "    <tr>\n",
       "      <th>3</th>\n",
       "      <td>2</td>\n",
       "      <td>2</td>\n",
       "      <td>1</td>\n",
       "      <td>6</td>\n",
       "      <td>0</td>\n",
       "      <td>1</td>\n",
       "      <td>2</td>\n",
       "    </tr>\n",
       "    <tr>\n",
       "      <th>4</th>\n",
       "      <td>1</td>\n",
       "      <td>3</td>\n",
       "      <td>0</td>\n",
       "      <td>5</td>\n",
       "      <td>0</td>\n",
       "      <td>1</td>\n",
       "      <td>1</td>\n",
       "    </tr>\n",
       "    <tr>\n",
       "      <th>...</th>\n",
       "      <td>...</td>\n",
       "      <td>...</td>\n",
       "      <td>...</td>\n",
       "      <td>...</td>\n",
       "      <td>...</td>\n",
       "      <td>...</td>\n",
       "      <td>...</td>\n",
       "    </tr>\n",
       "    <tr>\n",
       "      <th>257</th>\n",
       "      <td>2</td>\n",
       "      <td>1</td>\n",
       "      <td>1</td>\n",
       "      <td>6</td>\n",
       "      <td>0</td>\n",
       "      <td>3</td>\n",
       "      <td>2</td>\n",
       "    </tr>\n",
       "    <tr>\n",
       "      <th>258</th>\n",
       "      <td>0</td>\n",
       "      <td>3</td>\n",
       "      <td>0</td>\n",
       "      <td>4</td>\n",
       "      <td>2</td>\n",
       "      <td>2</td>\n",
       "      <td>0</td>\n",
       "    </tr>\n",
       "    <tr>\n",
       "      <th>259</th>\n",
       "      <td>1</td>\n",
       "      <td>3</td>\n",
       "      <td>0</td>\n",
       "      <td>5</td>\n",
       "      <td>0</td>\n",
       "      <td>0</td>\n",
       "      <td>1</td>\n",
       "    </tr>\n",
       "    <tr>\n",
       "      <th>260</th>\n",
       "      <td>0</td>\n",
       "      <td>2</td>\n",
       "      <td>0</td>\n",
       "      <td>4</td>\n",
       "      <td>2</td>\n",
       "      <td>3</td>\n",
       "      <td>2</td>\n",
       "    </tr>\n",
       "    <tr>\n",
       "      <th>261</th>\n",
       "      <td>1</td>\n",
       "      <td>2</td>\n",
       "      <td>0</td>\n",
       "      <td>4</td>\n",
       "      <td>0</td>\n",
       "      <td>1</td>\n",
       "      <td>2</td>\n",
       "    </tr>\n",
       "  </tbody>\n",
       "</table>\n",
       "<p>262 rows × 7 columns</p>\n",
       "</div>"
      ],
      "text/plain": [
       "     Title  Pclass  Sex  Age  Family  Fare  Embarked\n",
       "0        2       3    1    4       0     1         2\n",
       "1        2       1    1    7       0     3         2\n",
       "2        2       3    1    6       0     1         2\n",
       "3        2       2    1    6       0     1         2\n",
       "4        1       3    0    5       0     1         1\n",
       "..     ...     ...  ...  ...     ...   ...       ...\n",
       "257      2       1    1    6       0     3         2\n",
       "258      0       3    0    4       2     2         0\n",
       "259      1       3    0    5       0     0         1\n",
       "260      0       2    0    4       2     3         2\n",
       "261      1       2    0    4       0     1         2\n",
       "\n",
       "[262 rows x 7 columns]"
      ]
     },
     "execution_count": 390,
     "metadata": {},
     "output_type": "execute_result"
    }
   ],
   "source": [
    "dropped_col = ['Ticket']\n",
    "\n",
    "# For the Name Column\n",
    "  #Strip all white space \n",
    "dft['Name'] = dft['Name'].str.replace(\" \",\"\",regex=True)\n",
    "  #Replace all periods with commas\n",
    "dft['Name'] = dft['Name'].str.replace(\".\",\",\",regex=True)\n",
    "  #Split the Name feature\n",
    "dft[['Last Name','Title',\"First Name\"]] = dft['Name'].str.split(',',expand=True)\n",
    "\n",
    "#Create Family Feature\n",
    "dft['Family'] = dft['SibSp']+dft['Parch']\n",
    "\n",
    "# Drop unneeded features\n",
    "dft = dft.drop(columns = ['Cabin','Name','First Name','Last Name','SibSp','Parch'])\n",
    "\n",
    "# reorder features \n",
    "cols = ['Title','Pclass', 'Sex', 'Age', 'Family','Fare','Embarked']\n",
    "dft = dft[cols]\n",
    "\n",
    "# remap the titles to limited titles\n",
    "dft[\"Title\"] = dft[\"Title\"].map(honorifics)\n",
    "\n",
    "#handle cases where a title falls in multiple categories\n",
    "for i,j in enumerate(dft['Title']):\n",
    "    if dft.loc[i,'Title'] not in ['Mr','Mrs','Miss','Master']:\n",
    "        if dft.loc[i,'Sex'] == 'male':\n",
    "            dft.loc[i,'Title'] = 'Mr'\n",
    "        else:\n",
    "            dft.loc[i,'Title'] = 'Mrs'\n",
    "\n",
    "# fill in missing age data with distributed age data\n",
    "nan_index = dft['Age'][np.isnan(dft['Age'])]\n",
    "nan_index = nan_index.index.values.tolist()\n",
    "\n",
    "for index in nan_index:\n",
    "    dft.loc[index,'Age'] = random_age(dft.loc[index,\"Title\"],df)\n",
    "\n",
    "# fill in missing fare data with an average\n",
    "dft['Fare'].fillna(dft['Fare'].mean(),inplace=True)\n",
    "\n",
    "# replace missing embarked data with 'S'\n",
    "dft['Embarked'].fillna('S',inplace=True)\n",
    "\n",
    "# Map Sex, Title, and Embarked features\n",
    "dft['Sex'] = dft['Sex'].map({'male':1,'female':0})\n",
    "dft['Title'] = dft['Title'].map({'Master':3,'Miss':1,'Mr':2,'Mrs':0})\n",
    "dft['Embarked'] = dft['Embarked'].map({'C':0,'Q':1,'S':2})\n",
    "\n",
    "\n",
    "dft['Age']=dft['Age'].map(lambda x: x//int(lower_fares['Age'].max()/bin_size)).astype(int)\n",
    "dft['Fare']=dft['Fare'].map(lambda x: x//int(lower_fares['Fare'].max()/bin_size)).astype(int)\n",
    "\n",
    "dft"
   ]
  },
  {
   "cell_type": "code",
   "execution_count": 391,
   "id": "4616504c",
   "metadata": {},
   "outputs": [],
   "source": [
    "data_test_cleaned = dft.copy()"
   ]
  },
  {
   "cell_type": "markdown",
   "id": "6852cb5f",
   "metadata": {},
   "source": [
    "# Build the Decision Tree"
   ]
  },
  {
   "cell_type": "markdown",
   "id": "7a12a927",
   "metadata": {},
   "source": [
    "## Preliminary Tree"
   ]
  },
  {
   "cell_type": "code",
   "execution_count": 392,
   "id": "43199647",
   "metadata": {},
   "outputs": [
    {
     "data": {
      "text/plain": [
       "DecisionTreeClassifier()"
      ]
     },
     "execution_count": 392,
     "metadata": {},
     "output_type": "execute_result"
    }
   ],
   "source": [
    "pre_tree = DecisionTreeClassifier()\n",
    "pre_tree.fit(data_train_cleaned,y_train)"
   ]
  },
  {
   "cell_type": "code",
   "execution_count": 393,
   "id": "fef1bfa0",
   "metadata": {
    "scrolled": false
   },
   "outputs": [
    {
     "data": {
      "image/png": "[encoded data removed]",
      "text/plain": [
       "<Figure size 1080x504 with 1 Axes>"
      ]
     },
     "metadata": {},
     "output_type": "display_data"
    }
   ],
   "source": [
    "plt.figure(figsize=(15,7))\n",
    "tree.plot_tree(pre_tree, filled=True, class_names = ['Did Not Survive', 'Survived'], feature_names = data_train_cleaned.columns)\n",
    "plt.show()"
   ]
  },
  {
   "cell_type": "code",
   "execution_count": 404,
   "id": "b0931e3f",
   "metadata": {},
   "outputs": [],
   "source": [
    "predictions = pre_tree.predict(data_test_cleaned)"
   ]
  },
  {
   "cell_type": "code",
   "execution_count": 408,
   "id": "2aa418b2",
   "metadata": {},
   "outputs": [
    {
     "data": {
      "text/plain": [
       "<sklearn.metrics._plot.confusion_matrix.ConfusionMatrixDisplay at 0x11a0efc84f0>"
      ]
     },
     "execution_count": 408,
     "metadata": {},
     "output_type": "execute_result"
    },
    {
     "data": {
      "image/png": "[encoded data removed]",
      "text/plain": [
       "<Figure size 432x288 with 2 Axes>"
      ]
     },
     "metadata": {},
     "output_type": "display_data"
    }
   ],
   "source": [
    "ConfusionMatrixDisplay.from_predictions(y_test,predictions,display_labels=[\"Did not Survive\",\"Survived\"],cmap='BuPu')"
   ]
  },
  {
   "cell_type": "code",
   "execution_count": 417,
   "id": "3817d1ba",
   "metadata": {},
   "outputs": [
    {
     "name": "stdout",
     "output_type": "stream",
     "text": [
      "Preliminary Tree is ~80% accurate\n"
     ]
    }
   ],
   "source": [
    "result = (71+138)/(138+32+71+21)\n",
    "\n",
    "print(f'Preliminary Tree is ~{result:.0%} accurate')"
   ]
  },
  {
   "cell_type": "code",
   "execution_count": null,
   "id": "765bb14f",
   "metadata": {},
   "outputs": [],
   "source": []
  }
 ],
 "metadata": {
  "kernelspec": {
   "display_name": "Python 3 (ipykernel)",
   "language": "python",
   "name": "python3"
  },
  "language_info": {
   "codemirror_mode": {
    "name": "ipython",
    "version": 3
   },
   "file_extension": ".py",
   "mimetype": "text/x-python",
   "name": "python",
   "nbconvert_exporter": "python",
   "pygments_lexer": "ipython3",
   "version": "3.8.12"
  }
 },
 "nbformat": 4,
 "nbformat_minor": 5
}
